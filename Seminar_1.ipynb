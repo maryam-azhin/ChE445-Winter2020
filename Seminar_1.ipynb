{
 "cells": [
  {
   "cell_type": "markdown",
   "metadata": {},
   "source": [
    "**Q1**. A pulse tracer input into a PFR showed the following outlet concentration:\n",
    "\n",
    "The experimental data between 2 and 4 min were fit into the line equation $C_{out} = -2t+17$, with $C_{out}$ in $[mM]*$ and $t$ in $[min]$.\n",
    "\n",
    "    a) Find the RTD function.\n",
    "    b) Find mean residence time.\n",
    "    c) Find variance.\n",
    "    d) What is the fraction of material that spends in the reactor 3 minutes and longer?\n",
    "* [M] means [mol/L] – it is a molar concentration in a fluid (gas or liquid)\n",
    "![Q1.png](Q1.png)"
   ]
  },
  {
   "cell_type": "code",
   "execution_count": 3,
   "metadata": {},
   "outputs": [
    {
     "data": {
      "text/plain": [
       "Text(0.5, 0, 'Concentration, mM')"
      ]
     },
     "execution_count": 3,
     "metadata": {},
     "output_type": "execute_result"
    },
    {
     "data": {
      "image/png": "[encoded data removed]",
      "text/plain": [
       "<Figure size 432x288 with 1 Axes>"
      ]
     },
     "metadata": {
      "needs_background": "light"
     },
     "output_type": "display_data"
    }
   ],
   "source": [
    "import numpy as np\n",
    "t=np.linspace(0.,8.,100)\n",
    "C=np.zeros(len(t))\n",
    "\n",
    "for i in range(0,len(t)):\n",
    "    if 0<t[i]<2: \n",
    "        C[i]=0\n",
    "    elif 2<=t[i]<=4:\n",
    "        C[i]=-2*t[i]+17\n",
    "    else:\n",
    "        C[i]=0\n",
    "\n",
    "        \n",
    "import matplotlib.pyplot as plt\n",
    "plt.plot(t,C)\n",
    "plt.ylabel('Concentration, mM')\n",
    "plt.xlabel('Concentration, mM')"
   ]
  },
  {
   "cell_type": "code",
   "execution_count": 31,
   "metadata": {},
   "outputs": [
    {
     "data": {
      "text/plain": [
       "array([0.00000000e+00, 8.00080008e-04, 1.60016002e-03, ...,\n",
       "       7.99839984e+00, 7.99919992e+00, 8.00000000e+00])"
      ]
     },
     "execution_count": 31,
     "metadata": {},
     "output_type": "execute_result"
    }
   ],
   "source": [
    "t"
   ]
  },
  {
   "cell_type": "markdown",
   "metadata": {},
   "source": [
    "$\\int_0^\\infty C(t)dt=0+\\int_2^4(-2*t+17)dt+0=-2\\int_2^4tdt+17\\int_2^4dt=22$"
   ]
  },
  {
   "cell_type": "code",
   "execution_count": 87,
   "metadata": {},
   "outputs": [
    {
     "name": "stdout",
     "output_type": "stream",
     "text": [
      "$\\int_0^\\infty C(t)dt$22.003\n"
     ]
    }
   ],
   "source": [
    "import numpy as np\n",
    "import scipy.integrate as integrate\n",
    "\n",
    "t=np.linspace(0.,8.,10000)\n",
    "C=np.zeros(len(t))\n",
    "\n",
    "for i in range(0,len(t)):\n",
    "    if 0<t[i]<2: \n",
    "        C[i]=0\n",
    "    elif 2<=t[i]<=4:\n",
    "        C[i]=-2*t[i]+17\n",
    "    else:\n",
    "        C[i]=0\n",
    "\n",
    "I = integrate.cumtrapz(C, t, initial=0) \n",
    "print (\"{0:.3f}\".format(I[len(I)-1]))\n"
   ]
  },
  {
   "cell_type": "markdown",
   "metadata": {},
   "source": [
    "RTD function : $E(t)=\\frac{C(t)}{\\int_0^\\infty C(t)dt}$"
   ]
  },
  {
   "cell_type": "code",
   "execution_count": 15,
   "metadata": {},
   "outputs": [
    {
     "data": {
      "text/plain": [
       "[<matplotlib.lines.Line2D at 0x7f2421f83b38>]"
      ]
     },
     "execution_count": 15,
     "metadata": {},
     "output_type": "execute_result"
    },
    {
     "data": {
      "image/png": "[encoded data removed]",
      "text/plain": [
       "<Figure size 432x288 with 1 Axes>"
      ]
     },
     "metadata": {
      "needs_background": "light"
     },
     "output_type": "display_data"
    }
   ],
   "source": [
    "import numpy as np\n",
    "import matplotlib.pyplot as plt\n",
    "E=np.zeros(len(t))\n",
    "\n",
    "for i in range(0,len(t)):\n",
    "#    if 0<t[i]<2: \n",
    "#        E[i]=0\n",
    "#    elif 2<=t[i]<=4:\n",
    "#        E[i]=(-2*t[i]+17)/22\n",
    "#    else:\n",
    "#        E[i]=0\n",
    "\n",
    "     E[i]=C[i]/I[len(I)-1]\n",
    "E        \n",
    "plt.plot(t,E)"
   ]
  },
  {
   "cell_type": "markdown",
   "metadata": {},
   "source": [
    "**b**. Mean residence time\n",
    "$\\bar{t}=\\int_0^\\infty tE(t)dt=0+\\int_2^4 tE(t)dt+0=\\int_2^4(t\\frac{-2t+17}{22})dt=-\\frac{2}{22}(\\frac{4^3}{3}-\\frac{2^3}{3})+\\frac{17}{22}(\\frac{4^2}{2}-\\frac{2^2}{2})=2.9 min$"
   ]
  },
  {
   "cell_type": "code",
   "execution_count": 16,
   "metadata": {},
   "outputs": [
    {
     "name": "stdout",
     "output_type": "stream",
     "text": [
      "mean residence time =2.939\n"
     ]
    }
   ],
   "source": [
    "t_r=np.zeros(len(t))\n",
    "for i in range(0,len(t)):\n",
    "    t_r[i]=t[i]*E[i]\n",
    "\n",
    "    \n",
    "tr = integrate.trapz(t_r, t)\n",
    "\n",
    "\n",
    "print (\"mean residence time ={0:.3f}\".format(tr))"
   ]
  },
  {
   "cell_type": "markdown",
   "metadata": {},
   "source": [
    "**c**. Find the varience\n",
    "\n",
    "$\\sigma^2=\\int_0^\\infty t^2E(t)dt-\\bar{t}^2=\\int_2^4 t^2(\\frac{-2t+17}{22})dt-2.9^2=\\frac{-1}{11}(\\frac{4^4}{4}-\\frac{2^4}{4})+\\frac{17*4^3}{22*3}-\\frac{17*2^3}{22*3}-2.9^2=0.56 min^2$"
   ]
  },
  {
   "cell_type": "code",
   "execution_count": 17,
   "metadata": {},
   "outputs": [
    {
     "name": "stdout",
     "output_type": "stream",
     "text": [
      "8.969109601086757\n",
      "2.9392829183001035\n",
      "Varience of residence times = 0.3297255272759845 min^2 0.5591096010867567\n"
     ]
    }
   ],
   "source": [
    "v=np.zeros(len(t))\n",
    "\n",
    "for i in range(0,len(t)):\n",
    "    v[i]=t[i]*t[i]*E[i]\n",
    "    \n",
    "\n",
    "Va = integrate.trapz(v, t)\n",
    "print(Va)\n",
    "print(tr)\n",
    "Var=Va-(2.9*2.9)\n",
    "Var1=Va-(tr*tr)\n",
    "print ('Varience of residence times =', Var1, 'min^2', Var)"
   ]
  },
  {
   "cell_type": "markdown",
   "metadata": {},
   "source": [
    "**d**. Fraction of the material spends in the reactor longer than 3 min."
   ]
  },
  {
   "cell_type": "markdown",
   "metadata": {},
   "source": [
    "Use cummulative distribution function, $F(t)=\\int_0^t E(t) dt$.\n",
    "\n",
    "$1-F(t)$?"
   ]
  },
  {
   "cell_type": "markdown",
   "metadata": {},
   "source": [
    "$F(3)=\\int_0^3 t dt+ \\frac{17}{22}\\int_2^3 dt=\\frac{-2}{22}(\\frac{3^2}{2}-\\frac{2^2}{2})+\\frac{17}{22}(3-2)=0.545$\n",
    "\n",
    "1-F(3)=0.455"
   ]
  },
  {
   "cell_type": "code",
   "execution_count": 89,
   "metadata": {},
   "outputs": [
    {
     "name": "stdout",
     "output_type": "stream",
     "text": [
      "Fraction spends in the reactor less than 3 min = 0.5448581920338935\n",
      "Fraction spends in the reactor greater than 3 min = 0.4551418079661065\n"
     ]
    },
    {
     "data": {
      "image/png": "[encoded data removed]",
      "text/plain": [
       "<Figure size 432x288 with 1 Axes>"
      ]
     },
     "metadata": {
      "needs_background": "light"
     },
     "output_type": "display_data"
    }
   ],
   "source": [
    "y=np.zeros(len(t))\n",
    "\n",
    "\n",
    "for i in range (2,len(t)+1):\n",
    "        y[i-1]=integrate.trapz(E[0:i],t[0:i])\n",
    "    \n",
    "k=0\n",
    "\n",
    "\n",
    "plt.plot(t,y)\n",
    "\n",
    "for i in range(0,len(t)):\n",
    "    if 2.99 < t[i] < 3.00:\n",
    "        k=i\n",
    "\n",
    "#print(k)\n",
    "    \n",
    "print ('Fraction spends in the reactor less than 3 min =', y[k-1]) \n",
    "print ('Fraction spends in the reactor greater than 3 min =', 1-y[k-1])"
   ]
  },
  {
   "cell_type": "markdown",
   "metadata": {},
   "source": [
    "**Q2**. Residence time distribution in real reactors and its characteristics. *From Chapter 13, 4th Ed. Fogler*\n",
    "\n",
    "\n",
    "The following data were obtained from a pulse tracer test to a real flow reactor:"
   ]
  },
  {
   "cell_type": "markdown",
   "metadata": {},
   "source": [
    "|t(s)|0|5|10|15|20|25|30|35|\n",
    "|----|--|--|---|--|--|--|--|--|\n",
    "|C(mg/dm^3)|0|0|0|5|10|5|0|0|"
   ]
  },
  {
   "cell_type": "markdown",
   "metadata": {},
   "source": [
    "    a) Plot RTD function\n",
    "    b) Find the fraction of material that spends between 15 and 20 seconds in the reactor\n",
    "    c) Plot cumulative distribution function F(t)\n",
    "    d) What fraction of the material spends 25 seconds or less in the reactor?\n",
    "    e) Find mean residence time."
   ]
  },
  {
   "cell_type": "markdown",
   "metadata": {},
   "source": [
    "**a**. RTD function is $E(t)=\\frac{C(t)}{\\int_0^\\infty C(t) dt}$"
   ]
  },
  {
   "cell_type": "markdown",
   "metadata": {},
   "source": [
    "To find the total concentration in the denominator, we plot $C(t)$ vs. time and evaluate the area:\n",
    "![Q2.png](Q2.png)"
   ]
  },
  {
   "cell_type": "code",
   "execution_count": 90,
   "metadata": {},
   "outputs": [
    {
     "data": {
      "text/plain": [
       "Text(0.5, 0, 'Time, s')"
      ]
     },
     "execution_count": 90,
     "metadata": {},
     "output_type": "execute_result"
    },
    {
     "data": {
      "image/png": "[encoded data removed]",
      "text/plain": [
       "<Figure size 432x288 with 1 Axes>"
      ]
     },
     "metadata": {
      "needs_background": "light"
     },
     "output_type": "display_data"
    }
   ],
   "source": [
    "t2=np.linspace(0.,35,1000)\n",
    "C2=np.zeros(len(t2))\n",
    "\n",
    "for i in range(0,len(t2)):\n",
    "    if 0<t2[i]<10: \n",
    "        C2[i]=0\n",
    "    elif 10<=t2[i]<20:\n",
    "        C2[i]=t2[i]-10\n",
    "    elif 20<=t2[i]<=30:\n",
    "        C2[i]=30-t2[i]\n",
    "    else:\n",
    "        C2[i]=0\n",
    "\n",
    "import matplotlib.pyplot as plt\n",
    "plt.plot(t2,C2)\n",
    "plt.ylabel('Concentration, mM')\n",
    "plt.xlabel('Time, s')"
   ]
  },
  {
   "cell_type": "code",
   "execution_count": 61,
   "metadata": {},
   "outputs": [
    {
     "name": "stdout",
     "output_type": "stream",
     "text": [
      "The total concentration in denominator =99.990 mg.s/dm^3\n"
     ]
    }
   ],
   "source": [
    "I2 = integrate.cumtrapz(C2, t2, initial=0) \n",
    "print (\"The total concentration in denominator ={0:.3f}\".format(I[len(I)-1]), 'mg.s/dm^3')"
   ]
  },
  {
   "cell_type": "markdown",
   "metadata": {},
   "source": [
    "RTD function is  $𝐸(𝑡)=𝐶(𝑡)\\int_0^\\infty 𝐶(𝑡)𝑑𝑡$"
   ]
  },
  {
   "cell_type": "code",
   "execution_count": 84,
   "metadata": {},
   "outputs": [
    {
     "data": {
      "text/plain": [
       "Text(0.5, 0, 'Time, s')"
      ]
     },
     "execution_count": 84,
     "metadata": {},
     "output_type": "execute_result"
    },
    {
     "data": {
      "image/png": "[encoded data removed]",
      "text/plain": [
       "<Figure size 432x288 with 1 Axes>"
      ]
     },
     "metadata": {
      "needs_background": "light"
     },
     "output_type": "display_data"
    }
   ],
   "source": [
    "import numpy as np\n",
    "import matplotlib.pyplot as plt\n",
    "E2=np.zeros(len(t2))\n",
    "\n",
    "for i in range(0,len(t2)):\n",
    "\n",
    "     E2[i]=C2[i]/I2[len(I2)-1]\n",
    "E2        \n",
    "plt.plot(t2,E2)\n",
    "plt.ylabel('E(t)')\n",
    "plt.xlabel('Time, s')"
   ]
  },
  {
   "cell_type": "markdown",
   "metadata": {},
   "source": [
    "**b**.$\\int_{15}^{20} E(t) dt$"
   ]
  },
  {
   "cell_type": "code",
   "execution_count": 83,
   "metadata": {},
   "outputs": [
    {
     "name": "stdout",
     "output_type": "stream",
     "text": [
      "Fraction spends in the reactor between 15-20 mins =0.371\n"
     ]
    },
    {
     "data": {
      "image/png": "[encoded data removed]",
      "text/plain": [
       "<Figure size 432x288 with 1 Axes>"
      ]
     },
     "metadata": {
      "needs_background": "light"
     },
     "output_type": "display_data"
    }
   ],
   "source": [
    "y2=np.zeros(len(t2))\n",
    "\n",
    "\n",
    "for i in range (2,len(t2)+1):\n",
    "        y2[i-1]=integrate.trapz(E2[0:i],t2[0:i])\n",
    "    \n",
    "k2=0\n",
    "k22=0\n",
    "\n",
    "plt.plot(t2,y2)\n",
    "plt.ylabel('F(t)')\n",
    "plt.xlabel('Time, s')\n",
    "\n",
    "for i in range(0,len(t2)):\n",
    "    if 14.84 < t2[i] < 15.00:\n",
    "        k2=i\n",
    "    if 19.79 < t2[i] < 20.00:\n",
    "        k22=i\n",
    "\n",
    "#print(k2)\n",
    "#print(k22)\n",
    "#print(y2[k2-1])\n",
    "#print(y2[k22-1])\n",
    "    \n",
    "print (\"Fraction spends in reactor between 15-20 mins ={0:.3f}\".format(y2[k22-1]-y2[k2-1]))\n"
   ]
  },
  {
   "cell_type": "code",
   "execution_count": 80,
   "metadata": {},
   "outputs": [
    {
     "name": "stdout",
     "output_type": "stream",
     "text": [
      "Fraction spends in the reactor between 10-15 mins =0.123\n"
     ]
    }
   ],
   "source": [
    "k3=0\n",
    "k33=0\n",
    "\n",
    "for i in range(0,len(t2)):\n",
    "    if 9.98 < t2[i] < 10.00:\n",
    "        k3=i\n",
    "    if 14.99 < t2[i] < 15.00:\n",
    "        k33=i\n",
    "\n",
    "#print(k3)\n",
    "#print(k33)\n",
    "#print(y2[k3-1])\n",
    "#print(y2[k33-1])\n",
    "#print(y2[k33-1]-y2[k3-1])\n",
    "print (\"Fraction spends in the reactor between 10-15 mins ={0:.3f}\".format(y2[k33-1]-y2[k3-1]))\n"
   ]
  },
  {
   "cell_type": "code",
   "execution_count": 81,
   "metadata": {},
   "outputs": [
    {
     "name": "stdout",
     "output_type": "stream",
     "text": [
      "Fraction spends in the reactor between 10-20 mins =0.494\n"
     ]
    }
   ],
   "source": [
    "k4=0\n",
    "k44=0\n",
    "\n",
    "for i in range(0,len(t2)):\n",
    "    if 9.98 < t2[i] < 10.00:\n",
    "        k4=i\n",
    "    if 19.96 < t2[i] < 20.00:\n",
    "        k44=i\n",
    "\n",
    "#print(k4)\n",
    "#print(k44)\n",
    "#print(y2[k4-1])\n",
    "#print(y2[k44-1])\n",
    "#print(y2[k44-1]-y2[k4-1])\n",
    "print (\"Fraction spends in the reactor between 10-20 mins ={0:.3f}\".format(y2[k44-1]-y2[k4-1]))\n"
   ]
  },
  {
   "cell_type": "code",
   "execution_count": 82,
   "metadata": {},
   "outputs": [
    {
     "name": "stdout",
     "output_type": "stream",
     "text": [
      "Fraction spends in the reactor between 10-25 mins =0.872\n"
     ]
    }
   ],
   "source": [
    "k5=0\n",
    "k55=0\n",
    "\n",
    "for i in range(0,len(t2)):\n",
    "    if 9.98 < t2[i] < 10.00:\n",
    "        k5=i\n",
    "    if 24.97 < t2[i] < 25.00:\n",
    "        k55=i\n",
    "\n",
    "#print(k5)\n",
    "#print(k55)\n",
    "#print(y2[k5-1])\n",
    "#print(y2[k55-1])\n",
    "#print(y2[k55-1]-y2[k5-1])\n",
    "print (\"Fraction spends in the reactor between 10-25 mins ={0:.3f}\".format(y2[k55-1]-y2[k5-1]))\n"
   ]
  },
  {
   "cell_type": "markdown",
   "metadata": {},
   "source": [
    "**e**. mean residence time. $\\bar{t}=\\int_0^\\infty t. E(t) dt$"
   ]
  },
  {
   "cell_type": "code",
   "execution_count": 74,
   "metadata": {},
   "outputs": [
    {
     "name": "stdout",
     "output_type": "stream",
     "text": [
      "mean residence time =20.000 s\n"
     ]
    },
    {
     "data": {
      "text/plain": [
       "Text(0.5, 0, 'time, s')"
      ]
     },
     "execution_count": 74,
     "metadata": {},
     "output_type": "execute_result"
    },
    {
     "data": {
      "image/png": "[encoded data removed]",
      "text/plain": [
       "<Figure size 432x288 with 1 Axes>"
      ]
     },
     "metadata": {
      "needs_background": "light"
     },
     "output_type": "display_data"
    }
   ],
   "source": [
    "t_r2=np.zeros(len(t2))\n",
    "for i in range(0,len(t2)):\n",
    "    t_r2[i]=t2[i]*E2[i]\n",
    "\n",
    "    \n",
    "tr2 = integrate.trapz(t_r2, t2)\n",
    "\n",
    "\n",
    "print (\"mean residence time ={0:.3f}\".format(tr2), 's')\n",
    "plt.plot(t2,t_r2)\n",
    "plt.ylabel('t*E(t)')\n",
    "plt.xlabel('time, s')"
   ]
  },
  {
   "cell_type": "code",
   "execution_count": null,
   "metadata": {},
   "outputs": [],
   "source": []
  }
 ],
 "metadata": {
  "kernelspec": {
   "display_name": "Python 3",
   "language": "python",
   "name": "python3"
  },
  "language_info": {
   "codemirror_mode": {
    "name": "ipython",
    "version": 3
   },
   "file_extension": ".py",
   "mimetype": "text/x-python",
   "name": "python",
   "nbconvert_exporter": "python",
   "pygments_lexer": "ipython3",
   "version": "3.7.3"
  }
 },
 "nbformat": 4,
 "nbformat_minor": 2
}
