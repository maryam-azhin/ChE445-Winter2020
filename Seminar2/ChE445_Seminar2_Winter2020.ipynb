{
 "cells": [
  {
   "cell_type": "markdown",
   "metadata": {},
   "source": [
    "                            T.A. Maryam Azhin"
   ]
  },
  {
   "cell_type": "markdown",
   "metadata": {},
   "source": [
    "### Non-ideal reactors. Predicting conversion in flow reactors"
   ]
  },
  {
   "cell_type": "markdown",
   "metadata": {},
   "source": [
    "**Q 1**. Ideal laminar flow reactor (LFR). A constant-density reaction is to be performed in a tubular reactor. Volumetric flow rate of the feed at reactor entrance conditions is $2 L/s$, the reactor volume is $12 L$. RTD measurements showed that the reactor behaves as an ideal LFR. What are the RTD $E(t)$ and cumulative distribution $F(t)$ functions for this reactor?"
   ]
  },
  {
   "cell_type": "markdown",
   "metadata": {},
   "source": [
    "**Answer 1**. In a constant-density LFR,  $\\bar{t}=\\tau$ (residence time = space time)"
   ]
  },
  {
   "cell_type": "code",
   "execution_count": 65,
   "metadata": {},
   "outputs": [
    {
     "name": "stdout",
     "output_type": "stream",
     "text": [
      "6.0 (s)\n"
     ]
    }
   ],
   "source": [
    "import numpy as np\n",
    "V=12 #L\n",
    "Q0=2 #L/s\n",
    "\n",
    "Tau=V/Q0\n",
    "print (\"{0:.1f}\".format(Tau),'(s)')"
   ]
  },
  {
   "cell_type": "markdown",
   "metadata": {},
   "source": [
    "In a Laminar Flow Reactor (LFR) :\n",
    "         \n",
    "$E(t)=0$,                    if $t<\\tau/2$ s\n",
    "\n",
    "$E(t)=\\frac{\\tau^2}{2t^3}$   if $t>=\\tau/2$ s\n"
   ]
  },
  {
   "cell_type": "code",
   "execution_count": 66,
   "metadata": {},
   "outputs": [
    {
     "data": {
      "text/plain": [
       "Text(0.5, 0, 'Time, s')"
      ]
     },
     "execution_count": 66,
     "metadata": {},
     "output_type": "execute_result"
    },
    {
     "data": {
      "image/png": "[encoded data removed]",
      "text/plain": [
       "<Figure size 432x288 with 1 Axes>"
      ]
     },
     "metadata": {
      "needs_background": "light"
     },
     "output_type": "display_data"
    }
   ],
   "source": [
    "import math\n",
    "t=np.linspace(0.,20,100)\n",
    "E=np.zeros(len(t))\n",
    "\n",
    "for i in range(0,len(t)):\n",
    "    if  t[i]>3:\n",
    "        E[i]=(pow(Tau,2)/2)/pow(t[i],3)\n",
    "    else:\n",
    "        E[i]=0   \n",
    "\n",
    "import matplotlib.pyplot as plt\n",
    "plt.plot(t,E)\n",
    "plt.ylabel('E, 1/s')\n",
    "plt.xlabel('Time, s')"
   ]
  },
  {
   "cell_type": "markdown",
   "metadata": {},
   "source": [
    "In a LFR :\n",
    "         \n",
    "$$F(t)=0, \\;if\\; t<\\tau/2$$\n",
    "\n",
    "$$F(t)=1-\\frac{\\tau^2}{4t^2}\\; if\\; t>=\\tau/2s$$ \n"
   ]
  },
  {
   "cell_type": "code",
   "execution_count": 67,
   "metadata": {},
   "outputs": [
    {
     "data": {
      "text/plain": [
       "Text(0.5, 0, 'Time, s')"
      ]
     },
     "execution_count": 67,
     "metadata": {},
     "output_type": "execute_result"
    },
    {
     "data": {
      "image/png": "[encoded data removed]",
      "text/plain": [
       "<Figure size 432x288 with 1 Axes>"
      ]
     },
     "metadata": {
      "needs_background": "light"
     },
     "output_type": "display_data"
    }
   ],
   "source": [
    "F=np.zeros(len(t))\n",
    "\n",
    "\n",
    "for i in range(0,len(t)):\n",
    "    if  t[i]>3:\n",
    "        F[i]=1-pow(Tau,2)/(4*pow(t[i],2))\n",
    "    else:\n",
    "        F[i]=0 \n",
    "\n",
    "                \n",
    "\n",
    "import matplotlib.pyplot as plt\n",
    "plt.plot(t,F)\n",
    "plt.ylabel('F, 1/s')\n",
    "plt.xlabel('Time, s')"
   ]
  },
  {
   "cell_type": "markdown",
   "metadata": {},
   "source": [
    "**Q 2**. First-order reaction in a CSTR with dead zones. A constant-density first-order reaction with rate constant of $2.5 s^{-1}$ is to be performed in a CSTR of $10 L$ volume at $5 L/s$ flow rate. RTD measurements showed that dead zones exist in this reactor. Real mean residence time of the feed in the active zone is $1.7 s$. A significant investment is required to fix the problem with the reactor. You need to evaluate if this investment is worth the gain in conversion. Calculate the conversion if the reactor operated as an ideal reactor (i.e., if the problem were cured), and the conversion in the reactor with dead zones.\n",
    "Note: since this is a first-order reaction, so the micromixing effect is not applicable and we can predict the conversion right from the RTD measurements. Any other reaction order requires use of a micromixing model."
   ]
  },
  {
   "cell_type": "markdown",
   "metadata": {},
   "source": [
    "In an ideal CSTR:\n",
    "mole balance=$V=\\frac{F_{A0}}{-r_A}X_A$ \n",
    "for a constant density case: \n",
    "\n",
    " $-r_A=kC_A=kC_{A0}(1-X)=k\\frac{F_{A0}}{Q_0}(1-X)$\n",
    " \n",
    " $V=\\frac{X.Q_0}{k(1-X)}$\n",
    " \n",
    " $\\tau=\\frac{V}{Q_0}=\\frac{X}{k(1-X)}$"
   ]
  },
  {
   "cell_type": "code",
   "execution_count": 68,
   "metadata": {},
   "outputs": [
    {
     "name": "stdout",
     "output_type": "stream",
     "text": [
      "[0.83333333]\n",
      "2.0 (s)\n"
     ]
    }
   ],
   "source": [
    "import numpy as np\n",
    "from scipy.optimize import fsolve\n",
    "V=10 #L\n",
    "Q0=5 #L/s\n",
    "Tau=V/Q0\n",
    "k = 2.5 #s^{-1}\n",
    "\n",
    "def f(x):\n",
    "    return (Tau-x/(k*(1-x)))\n",
    "\n",
    "x = fsolve(f, 0.01)\n",
    "f(x)\n",
    "\n",
    "print (x)\n",
    "print (\"{0:.1f}\".format(Tau),'(s)')"
   ]
  },
  {
   "cell_type": "markdown",
   "metadata": {},
   "source": [
    "Non-ideal CSTR with dead zones:\n",
    "1st order reaction with constant density\n",
    "\n",
    "$\\frac{C_A}{C_{A0}}=\\int_0^\\infty e^{(-kt)} dt$\n",
    "\n",
    "$\\frac{C_A}{C_{A0}}=\\frac{C_{A0}(1-x)}{C_{A0}}$\n",
    "\n",
    "$E(t)=\\frac{e^{(-t/\\tau)}}{\\tau}$\n",
    "\n",
    "$x=1-\\int_0^\\infty \\frac{e^{-t/\\tau}}{\\tau}.e^{-kt}dt$\n",
    "\n",
    "$x=1-\\frac{1}{\\tau}\\int_0^\\infty e^{-(1/\\tau+k)t}dt$"
   ]
  },
  {
   "cell_type": "code",
   "execution_count": 69,
   "metadata": {},
   "outputs": [
    {
     "name": "stdout",
     "output_type": "stream",
     "text": [
      "0.8\n"
     ]
    }
   ],
   "source": [
    "Taur=1.7\n",
    "xr=1-1/Taur*(1/(1/Taur+k))\n",
    "print (\"{0:.1f}\".format(xr))"
   ]
  },
  {
   "cell_type": "markdown",
   "metadata": {},
   "source": [
    "Since $X_{real}<x_{ideal}$, technoeconomical analysis is needed to check if the reactor requires further improvement "
   ]
  },
  {
   "cell_type": "markdown",
   "metadata": {},
   "source": [
    "**Q 3**. Predicting conversion using a segregation model. The following RTD function was obtained from a pulse tracer test to a real flow reactor:\n",
    "\n",
    "|t(s)|0|5|10|15|20|25|30|35|\n",
    "|--|--|--|--|--|--|--|--|--|\n",
    "|E(t)|0|0|0|0.05|0.1|0.05|0|0|\n",
    "\n",
    "\n",
    "This flow reactor is to be used to perform a second-order reaction $2A->C$ in the liquid phase. The entering concentration is $2 M$ and the rate constant with respect to $A$ is $0.06 dm^3/(mol.s)$. Predict the conversion using a segregation model."
   ]
  },
  {
   "cell_type": "markdown",
   "metadata": {},
   "source": [
    "**Answer 3**. $\\bar{x}=\\int_0^\\infty x(t)E(t)dt$\n",
    "\n",
    "For a 2nd order CVBR:\n",
    "\n",
    "MB: $N_{A0}\\frac{dx}{dt}=-r_AV$\n",
    "\n",
    "$\\frac{dx}{dt}=\\frac{-r_A}{C_{A0}}=\\frac{kC_A^2}{C_{A0}}=\\frac{kC_{A0}^2(1-x)^2}{C_{A0}}$\n",
    "\n",
    "$-r_A=kC_A^2$\n",
    "\n",
    "$\\int_0^x \\frac{dx}{(1-x)^2}=kC_{A0}\\int_0^t dt$\n",
    "\n",
    "$x=\\frac{kC_{A0}t}{kC_{A0}t+1}$"
   ]
  },
  {
   "cell_type": "markdown",
   "metadata": {},
   "source": [
    "|t(s)|0|10|15|20|25|30|\n",
    "|--|--|--|--|--|--|--|\n",
    "|E(t)|0|0|0.05|0.1|0.05|0|\n",
    "|x(t)|0|0.55|0.643|.706|0.75|0.78|\n",
    "|xE(t)|0|0|0.032|0.071|0.038|0|"
   ]
  },
  {
   "cell_type": "code",
   "execution_count": 147,
   "metadata": {},
   "outputs": [
    {
     "name": "stdout",
     "output_type": "stream",
     "text": [
      "x3= [0.         0.54545455 0.64285714 0.70588235 0.75       0.7826087 ]\n",
      "xE3= [0.         0.         0.03214286 0.07058824 0.0375     0.        ]\n",
      "Xbar= 0.701155462184874\n"
     ]
    },
    {
     "data": {
      "image/png": "[encoded data removed]",
      "text/plain": [
       "<Figure size 432x288 with 1 Axes>"
      ]
     },
     "metadata": {
      "needs_background": "light"
     },
     "output_type": "display_data"
    }
   ],
   "source": [
    "import numpy as np\n",
    "import matplotlib.pyplot as plt\n",
    "import scipy.integrate as integrate\n",
    "\n",
    "t3 = np.array([0,10,15,20,25,30])\n",
    "E3 = np.array([0,0,0.05,.1,.05,0])\n",
    "k = 0.06\n",
    "CA0 = 2\n",
    "\n",
    "x3=np.divide(np.dot(k*CA0,t3),np.add(np.dot(k*CA0,t3),1))\n",
    "xE3=np.multiply(x3,E3)\n",
    "\n",
    "#plt.plot(t3,x3)\n",
    "#plt.ylabel('x')\n",
    "#plt.xlabel('Time, s')\n",
    "\n",
    "print('x3=',x3)\n",
    "print('xE3=',xE3)\n",
    "\n",
    "plt.plot(t3,xE3)\n",
    "plt.ylabel('xE(t)')\n",
    "plt.xlabel('Time, s')\n",
    "\n",
    "xbar = integrate.cumtrapz(xE3, t3, initial=0) \n",
    "print('Xbar=', xbar[-1])\n"
   ]
  },
  {
   "cell_type": "markdown",
   "metadata": {},
   "source": [
    "Predicted conversion in the real reactor is $70\\%$\n",
    "Altough we have a flow reactor, for the calculation of $x(t)$ the equation for constant volume batch reactor (CVBR) has been used. The reason is that in the segregation model it is assumed that flow passes through the reactor as separated globules behaving as CVBR."
   ]
  },
  {
   "cell_type": "code",
   "execution_count": null,
   "metadata": {},
   "outputs": [],
   "source": []
  }
 ],
 "metadata": {
  "kernelspec": {
   "display_name": "Python 3",
   "language": "python",
   "name": "python3"
  },
  "language_info": {
   "codemirror_mode": {
    "name": "ipython",
    "version": 3
   },
   "file_extension": ".py",
   "mimetype": "text/x-python",
   "name": "python",
   "nbconvert_exporter": "python",
   "pygments_lexer": "ipython3",
   "version": "3.7.3"
  }
 },
 "nbformat": 4,
 "nbformat_minor": 2
}
