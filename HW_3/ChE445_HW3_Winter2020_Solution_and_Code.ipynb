{
 "cells": [
  {
   "cell_type": "markdown",
   "metadata": {},
   "source": [
    "T.A. Maryam Azhin, \n",
    "Department of Chemical and Materials Engineering, University of Alberta"
   ]
  },
  {
   "cell_type": "markdown",
   "metadata": {},
   "source": [
    "**Predicting conversion in non-ideal reactors (part 2)**"
   ]
  },
  {
   "cell_type": "markdown",
   "metadata": {},
   "source": [
    "**Q 1. (50 pts)**\n",
    "For the laminar flow reactor of problem 2 in Assignment 2 (volume$=5 L$, constant fluid flow rate of $2.5\n",
    "L/s$, 2nd order constant density reaction with $kC_{A0}=15 s^{-1}$), predict the minimum possible conversion in the\n",
    "reactor (i.e. use the maximum mixedness model. Use $\\Delta \\lambda=0.01$ and a maximum time of $20 s$). Confirm that\n",
    "the conversion is less than the maximum possible conversion calculated using the segregated flow model from Assignment 2, Q 2."
   ]
  },
  {
   "cell_type": "markdown",
   "metadata": {},
   "source": [
    "**Answer**\n",
    "\n",
    "RTD is given by laminar flow reactor model:\n",
    "\n",
    "$E(t)=0\\;\\;\\;\\;\\; at \\;\\;\\;\\; t<1\\;s$\n",
    "\n",
    "$E(t)=\\frac{2}{t^3}\\;\\;\\;\\; at \\;\\;\\;\\; t\\geq 1\\;s$\n",
    "\n",
    "We need $F(t)$. \n",
    "\n",
    "$F(t)=0\\;\\;\\;\\; at \\;\\;\\;\\; t<1\\;s$\n",
    "\n",
    "$F(t)=\\int_0^tE(t)dt=2\\int_1^t \\frac{dt}{t^3}=\\frac{2}{-2}(\\frac{1}{t^2}-\\frac{1}{1})=1-\\frac{1}{t^2}\\;\\;\\;\\; at \\;\\;\\;\\; t\\geq 1\\;s$\n",
    " \n",
    "model: $\\frac{dX}{d \\lambda}=\\frac{r_A}{C_{A0}}+\\frac{E(\\lambda)}{1-F(\\lambda)}X$ \n",
    "\n",
    "$2^{nd}$ order $r_A=-kC_{A0}^2(1-X)^2$\n",
    "\n",
    "By introducing the reaction law to MM model: $\\frac{dX}{d \\lambda}=-KC_{A0}(1-X)^2+\\frac{E(\\lambda)X}{1-F(\\lambda)}$\n",
    "\n",
    "Euler method evaluation:\n",
    "\n",
    "$\\frac{X_{i+1}-X_i}{\\lambda_{i+1}-\\lambda_{i}}=[-kC_{A0}(1-X_{i})^2+X_{i}\\frac{E(\\lambda_i)}{1-F(\\lambda_i)}]$\n",
    "\n",
    "$\\Delta \\lambda=\\lambda_{i+1}-\\lambda_{i}$, where $\\Delta \\lambda$ is a negative value\n",
    "\n",
    "$X_{i+1}=X_{i}+\\Delta \\lambda [-kC_{A0}(1-X_{i})^2+X_{i}\\frac{E(\\lambda_i)}{1-F(\\lambda_i)}]$\n",
    "\n",
    "$\\Delta \\lambda=-0.01\\;s$\n",
    "\n",
    "Find $X$ at time $0$ is $0.946(<0.965$ preicted by seregated model).\n",
    "\n",
    "Values at $5s$: $E(t)=0.016$, $F(t)=0.96$, $X=0.852$"
   ]
  },
  {
   "cell_type": "code",
   "execution_count": 3,
   "metadata": {},
   "outputs": [
    {
     "data": {
      "text/plain": [
       "Text(0.5, 0, 'Time, s')"
      ]
     },
     "execution_count": 3,
     "metadata": {},
     "output_type": "execute_result"
    },
    {
     "data": {
      "image/png": "[encoded data removed]",
      "text/plain": [
       "<Figure size 432x288 with 1 Axes>"
      ]
     },
     "metadata": {
      "needs_background": "light"
     },
     "output_type": "display_data"
    }
   ],
   "source": [
    "import math\n",
    "import numpy as np\n",
    "import matplotlib.pyplot as plt\n",
    "\n",
    "t = np.linspace(0.,20,2000)\n",
    "E = np.zeros(len(t))\n",
    "kCA0 = 15 #S^-1\n",
    "del_lam = -0.01  #𝑠\n",
    "V = 5 #L\n",
    "Q0 = 2.5 #L/s\n",
    "Tau = V/Q0\n",
    "\n",
    "for i in range(0,len(t)):\n",
    "    if  t[i]>(Tau/2):\n",
    "        E[i]=(pow(Tau,2)/2)/pow(t[i],3)\n",
    "    else:\n",
    "        E[i]=0   \n",
    "\n",
    "plt.plot(t,E)\n",
    "plt.ylabel('E, 1/s')\n",
    "plt.xlabel('Time, s')"
   ]
  },
  {
   "cell_type": "code",
   "execution_count": 4,
   "metadata": {},
   "outputs": [
    {
     "data": {
      "text/plain": [
       "Text(0.5, 0, 'Time, s')"
      ]
     },
     "execution_count": 4,
     "metadata": {},
     "output_type": "execute_result"
    },
    {
     "data": {
      "image/png": "[encoded data removed]",
      "text/plain": [
       "<Figure size 432x288 with 1 Axes>"
      ]
     },
     "metadata": {
      "needs_background": "light"
     },
     "output_type": "display_data"
    }
   ],
   "source": [
    "F=np.zeros(len(t))\n",
    "\n",
    "for i in range(0,len(t)):\n",
    "    if  t[i]>(Tau/2):\n",
    "        F[i]=1-pow(Tau,2)/(4*pow(t[i],2))\n",
    "    else:\n",
    "        F[i]=0 \n",
    "\n",
    "import matplotlib.pyplot as plt\n",
    "plt.plot(t,F)\n",
    "plt.ylabel('F, 1/s')\n",
    "plt.xlabel('Time, s')"
   ]
  },
  {
   "cell_type": "code",
   "execution_count": 5,
   "metadata": {},
   "outputs": [
    {
     "name": "stdout",
     "output_type": "stream",
     "text": [
      "0.946 Conversion\n"
     ]
    },
    {
     "data": {
      "image/png": "[encoded data removed]",
      "text/plain": [
       "<Figure size 432x288 with 1 Axes>"
      ]
     },
     "metadata": {
      "needs_background": "light"
     },
     "output_type": "display_data"
    }
   ],
   "source": [
    "xplot=np.zeros(len(t))\n",
    "X=0\n",
    "\n",
    "for i in range(1,len(t)):\n",
    "        Xnew=X+del_lam*(-kCA0*pow((1.-X),2)+X*E[len(E)-1-i]/(1.-F[len(E)-1-i])) # explicit Euler\n",
    "        X=Xnew\n",
    "        xplot[i]=Xnew\n",
    "                                                    \n",
    "plt.plot(t,xplot)\n",
    "#xplot[-1]\n",
    "print (\"{0:.3f}\".format(xplot[-1]),'Conversion')"
   ]
  },
  {
   "cell_type": "markdown",
   "metadata": {},
   "source": [
    "------------------------------------------------------------"
   ]
  },
  {
   "cell_type": "markdown",
   "metadata": {},
   "source": [
    "**Q2. (50 pts)**\n",
    "A second-order gas-phase reaction $2A \\rightarrow B+C$ is to be carried out isothermally in a tubular reactor of $0.15 m$ i.d. and $1 m$ length. The entering flow rate of pure $A$ at the reaction conditions are $0.01 m^3/h$ and $2.7 mol/h$. The rate constant with respect to $A$ is $0.007 m^3/(mol.h)$.\n",
    "The mean residence time in the reactor was measured to be $0.48 h$, and the variance of the RTD was $0.067 h^2$.\n",
    "\n",
    "a) Predict conversion using tanks-in-series model.\n",
    "\n",
    "b) calculate the reactor Peclet number and the axial. Does dispersion affect the reactor performance, i.e. should an axial dispersion model be used for accurate modeling? Calculate the axial dispersion coefficient in $m^2/s$."
   ]
  },
  {
   "cell_type": "markdown",
   "metadata": {},
   "source": [
    "**Answer**\n",
    "\n",
    "number of tanks : $n=\\frac{\\tau^2}{\\sigma^2}=\\frac{0.48^2}{0.067}=3.43$ round to the nearest integer.\n",
    "$n=3$\n",
    "\n",
    "$\\tau$ in each tank: $\\frac{\\tau}{n}=\\frac{0.48}{3}=0.16\\;h$\n",
    "\n",
    "CSTR mole balance : $F_{A0}-F_A=-r_A.V$\n",
    "$(Q=Q_0)$\n",
    "\n",
    "$C_{A0}-C_{A}=kC_A^2\\tau$\n",
    "\n",
    "Quadratic root (only +)\n",
    "\n",
    "$C_A=\\frac{-1+(1+4k\\tau C_{A0})^{0.5}}{2\\tau.k}$\n",
    "\n",
    "\n",
    "Tank 1: $C_{A0}=270\\;\\;\\frac{mol}{m^3}$, $\\tau=0.16$, $k=0.07$\n",
    "        $C_{A1}=217.175\\;\\;\\frac{mol}{m^3}$\n",
    "\n",
    "Tank 2: $C_{A1}=217.175\\;\\;\\frac{mol}{m^3}$, $\\tau=0.16$, $k=0.07$\n",
    "        $C_{A2}=180.632\\;\\;\\frac{mol}{m^3}$\n",
    "\n",
    "Tank 3: $C_{A2}=180.632\\;\\;\\frac{mol}{m^3}$, $\\tau=0.16$, $k=0.07$\n",
    "        $C_{A3}=154.052\\;\\;\\frac{mol}{m^3}$\n",
    "\n",
    "Conversion (Q constant) $X=\\frac{C_{A0}-C_{A3}}{C_{A0}}=\\frac{270-154.052}{270}*100=42.9\\;\\%$\n",
    "\n"
   ]
  },
  {
   "cell_type": "code",
   "execution_count": 6,
   "metadata": {},
   "outputs": [
    {
     "name": "stdout",
     "output_type": "stream",
     "text": [
      "number of tanks= 3\n",
      "tau in each tank= 0.16\n",
      "Tank 1: CA1= 217.175 mol/m^3\n",
      "Tank 2: CA2= 180.632 mol/m^3\n",
      "Tank 3: CA3= 154.052 mol/m^3\n",
      "conversion 0.429\n"
     ]
    }
   ],
   "source": [
    "import math\n",
    "\n",
    "Q0 = 0.01 #𝑚3/ℎ\n",
    "FA0 = 2.7 #𝑚𝑜𝑙/ℎ\n",
    "var = 0.067\n",
    "Tau = 0.48\n",
    "k = 0.007 #m^3/(mol.h)\n",
    "n=pow(Tau,2)/var # number of tanks :round to the nearest integer.\n",
    "N=math.floor(n)\n",
    "print('number of tanks=',N)\n",
    "\n",
    "#tau in each tank: \n",
    "tau=Tau/N\n",
    "print('tau in each tank=', tau)\n",
    "\n",
    "#CSTR mole balance : $F_{A0}-F_A=-r_A.V$\n",
    "CA0 = FA0/Q0\n",
    "CA1 = (-1 + pow((1.+4.*k*tau*CA0),0.5))/(2*tau*k)\n",
    "print('Tank 1: CA1=', \"{0:.3f}\".format(CA1),'mol/m^3',)\n",
    "CA2 = (-1 + pow((1.+4.*k*tau*CA1),0.5))/(2*tau*k)\n",
    "print('Tank 2: CA2=',\"{0:.3f}\".format(CA2), 'mol/m^3')\n",
    "CA3 = (-1 + pow((1.+4.*k*tau*CA2),0.5))/(2*tau*k)\n",
    "print('Tank 3: CA3=',\"{0:.3f}\".format(CA3), 'mol/m^3')\n",
    "#Conversion (Q constant) \n",
    "X=(CA0-CA3)/CA0\n",
    "print('conversion',\"{0:.3f}\".format(X))\n"
   ]
  },
  {
   "cell_type": "markdown",
   "metadata": {},
   "source": [
    "**2-b)**\n",
    "\n",
    "$\\frac{\\sigma^2}{\\bar{t}^2}=\\frac{2}{Pe_r}-\\frac{2}{Pe_r^2}(1-e^{-Pe_r})$\n",
    "\n",
    "\n",
    "$\\frac{0.067}{0.48^2}=\\frac{2}{Pe_r}-\\frac{2}{Pe_r^2}(1-e^{-Pe_r})$\n",
    "\n",
    "\n",
    "$Pe_r=1.63$\n",
    "\n",
    "\n",
    "Yes dispersion affects the reactor performance $(Pe_r<100)$\n",
    "\n",
    "$Da=\\frac{U.L}{Pe_r}=\\frac{(Q/A_c).L}{Pe_r}=\\frac{0.01*4*1}{\\pi *0.15^2*1.63}= 0.347\\;\\;\\frac{m^2}{h}$"
   ]
  },
  {
   "cell_type": "code",
   "execution_count": 7,
   "metadata": {},
   "outputs": [
    {
     "name": "stdout",
     "output_type": "stream",
     "text": [
      "Peclet number [1.62998018]\n"
     ]
    }
   ],
   "source": [
    "from scipy.optimize import fsolve\n",
    "\n",
    "def func(Pe):\n",
    "    sigma2=0.067\n",
    "    tau=0.48\n",
    "    return sigma2/pow(tau,2)-2/Pe+2/(pow(Pe,2)*(1-math.exp(-Pe)))\n",
    "\n",
    "Pe_r = fsolve(func, 0.1)\n",
    "print('Peclet number',Pe_r)"
   ]
  },
  {
   "cell_type": "code",
   "execution_count": 8,
   "metadata": {},
   "outputs": [
    {
     "name": "stdout",
     "output_type": "stream",
     "text": [
      "Da= [0.34734856]\n"
     ]
    }
   ],
   "source": [
    "ID=0.15\n",
    "L=1\n",
    "V=3.14*ID*ID*L/4\n",
    "\n",
    "Da=(Q0/V)*L*L/Pe_r\n",
    "print('Da=',Da)"
   ]
  },
  {
   "cell_type": "code",
   "execution_count": null,
   "metadata": {},
   "outputs": [],
   "source": []
  }
 ],
 "metadata": {
  "kernelspec": {
   "display_name": "Python 3",
   "language": "python",
   "name": "python3"
  },
  "language_info": {
   "codemirror_mode": {
    "name": "ipython",
    "version": 3
   },
   "file_extension": ".py",
   "mimetype": "text/x-python",
   "name": "python",
   "nbconvert_exporter": "python",
   "pygments_lexer": "ipython3",
   "version": "3.7.3"
  }
 },
 "nbformat": 4,
 "nbformat_minor": 2
}
