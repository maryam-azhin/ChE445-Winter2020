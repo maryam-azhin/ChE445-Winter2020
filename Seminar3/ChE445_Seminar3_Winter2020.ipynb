{
 "cells": [
  {
   "cell_type": "markdown",
   "metadata": {},
   "source": [
    "                                         T.A. Maryam Azhin"
   ]
  },
  {
   "cell_type": "markdown",
   "metadata": {},
   "source": [
    "**Non-ideal reactors. Predicting conversion in flow reactors –II**."
   ]
  },
  {
   "cell_type": "markdown",
   "metadata": {},
   "source": [
    "**Q1**. Predicting conversion using a **maximum mixedness** (MM) model. This is the same reactor and RTD as in Q2, Seminar 1 and Q3, Seminar 2 – there we predicted the conversion using segregation model and obtained the value of $70\\%$. Note that for a reaction order $>1$ the MM model should give the lowest bound on conversion (i.e., the predicted conversion should be lower than in the segregation model).\n",
    "\n",
    "The following RTD function was obtained from a pulse tracer test to a real flow reactor:"
   ]
  },
  {
   "cell_type": "markdown",
   "metadata": {},
   "source": [
    "|t(s)|0|5|10|15|20|25|30|35|\n",
    "|----|--|--|---|--|--|--|--|--|\n",
    "|C(mg/dm^3)|0|0|0|5|10|5|0|0|\n",
    "|E(t)|0|0|0|0.05|0.1|0.05|0|0|"
   ]
  },
  {
   "cell_type": "markdown",
   "metadata": {},
   "source": [
    "This flow reactor is used to perform a second-order reaction $2A\\rightarrow C$ in the liquid phase.\n",
    "The entering concentration is $2 M$ and the rate constant with respect to A is $0.06\\frac{dm^3}{mol s}$. Predict the conversion using a maximum mixedness model."
   ]
  },
  {
   "cell_type": "markdown",
   "metadata": {},
   "source": [
    "**Answer 1**.\n",
    "We already built the RTD function and cumulative distribution function in Seminar 1 Problem 2 as follows:"
   ]
  },
  {
   "cell_type": "markdown",
   "metadata": {},
   "source": [
    "Equation for the maximum mixedness model: $\\frac{dX}{d \\lambda}=\\frac{r_A}{C_{A0}}+\\frac{E(\\lambda)X}{1-F(\\lambda)}$\n",
    "\n",
    "Reaction law:  $r_A=-k C_{A0}^2(1-X)^2$\n",
    "\n",
    "By introducing the reaction law to MM model: $\\frac{dX}{d \\lambda}=-KC_{A0}(1-X)^2+\\frac{E(\\lambda)X}{1-F(\\lambda)}$\n",
    "\n",
    "Euler method evaluation:\n",
    "\n",
    "$\\frac{X_{i+1}-X_i}{\\lambda_{i+1}-\\lambda_{i}}=[-kC_{A0}(1-X_{i})^2+X_{i}\\frac{E(\\lambda_i)}{1-F(\\lambda_i)}]$\n",
    "\n",
    "$\\Delta \\lambda=\\lambda_{i+1}-\\lambda_{i}$, where $\\Delta \\lambda$ is a negative value\n",
    "\n",
    "$X_{i+1}=X_{i}+\\Delta \\lambda [-kC_{A0}(1-X_{i})^2+X_{i}\\frac{E(\\lambda_i)}{1-F(\\lambda_i)}]$"
   ]
  },
  {
   "cell_type": "markdown",
   "metadata": {},
   "source": [
    "Initial and final conditions:\n",
    "\n",
    "$\\lambda_0=\\infty$ at $X=0$\n",
    "\n",
    "$\\lambda_{final}=0$ ![Q2.png](Q1MMBB.png)\n",
    "\n",
    "We select :\n",
    "\n",
    "$\\lambda_0=30$ and $X=0$ at this $\\lambda$.\n",
    "Choose $\\Delta \\lambda=-2$"
   ]
  },
  {
   "cell_type": "markdown",
   "metadata": {},
   "source": [
    "At $\\lambda=28$: $X=0+(-2)[-0.06*2*(1-0)^2+0*\\frac{E(28)}{(1-F(28))}]=0.24$\n",
    "\n",
    "At $\\lambda=26$: $E(26)=0.06$, $F(26)=0.92$, $X=0.24+(-2)[-0.06*2*(1-0.14)^2+0.14*\\frac{E(26)}{(1-F(26))}]=0.24+(-2)[-0.06*2*(1-0.14)^2+0.14*\\frac{0.06}{(1-0.82))}]=0.22$\n",
    "\n",
    "...\n",
    "\n",
    "Continue until:\n",
    "At $\\lambda=2$:$X=0.7$ \n",
    "At $\\lambda=0$: $E(0)=0$, $F(0)=0$, $X=0.7+(-2)[-0.12(1-0.7)^2+0.7*0]=0.722$\n",
    "\n",
    "The expected conversion is $72.2\\%$. Smaller step size will give the more accurate value $69\\%$ - This is the lowest bound on conversion for the reaction order $>1$ (segregation model gives the highest bound on conversion for such reaction)"
   ]
  },
  {
   "cell_type": "markdown",
   "metadata": {},
   "source": [
    "|t(s)|0|5|10|15|20|25|30|35|\n",
    "|----|--|--|---|--|--|--|--|--|\n",
    "|C(mg/dm^3)|0|0|0|5|10|5|0|0|\n",
    "|E(t)|0|0|0|0.05|0.1|0.05|0|0|\n",
    "|F(t)|0|0|0|0.123|.497|.874|1|1|"
   ]
  },
  {
   "cell_type": "code",
   "execution_count": 106,
   "metadata": {},
   "outputs": [
    {
     "data": {
      "text/plain": [
       "Text(0.5, 0, 'Time, s')"
      ]
     },
     "execution_count": 106,
     "metadata": {},
     "output_type": "execute_result"
    },
    {
     "data": {
      "image/png": "[encoded data removed]",
      "text/plain": [
       "<Figure size 432x288 with 1 Axes>"
      ]
     },
     "metadata": {
      "needs_background": "light"
     },
     "output_type": "display_data"
    }
   ],
   "source": [
    "import scipy.integrate as integrate\n",
    "import matplotlib.pyplot as plt\n",
    "import numpy as np\n",
    "import math\n",
    "\n",
    "t=np.linspace(0.,30,1000)\n",
    "C=np.zeros(len(t))\n",
    "\n",
    "for i in range(0,len(t)):\n",
    "    if 0<t[i]<10: \n",
    "        C[i]=0\n",
    "    elif 10<=t[i]<20:\n",
    "        C[i]=t[i]-10\n",
    "    elif 20<=t[i]<=30:\n",
    "        C[i]=30-t[i]\n",
    "    else:\n",
    "        C[i]=0\n",
    "\n",
    "plt.plot(t,C)\n",
    "plt.ylabel('Concentration, mM')\n",
    "plt.xlabel('Time, s')"
   ]
  },
  {
   "cell_type": "code",
   "execution_count": 107,
   "metadata": {},
   "outputs": [
    {
     "data": {
      "text/plain": [
       "Text(0.5, 0, 'Time, s')"
      ]
     },
     "execution_count": 107,
     "metadata": {},
     "output_type": "execute_result"
    },
    {
     "data": {
      "image/png": "[encoded data removed]",
      "text/plain": [
       "<Figure size 432x288 with 1 Axes>"
      ]
     },
     "metadata": {
      "needs_background": "light"
     },
     "output_type": "display_data"
    }
   ],
   "source": [
    "I = integrate.cumtrapz(C, t, initial=0) \n",
    "E=np.zeros(len(t))\n",
    "\n",
    "for i in range(0,len(t)):\n",
    "     E[i]=C[i]/I[len(I)-1]\n",
    "        \n",
    "plt.plot(t,E)\n",
    "plt.ylabel('E(t), 1/s')\n",
    "plt.xlabel('Time, s')"
   ]
  },
  {
   "cell_type": "code",
   "execution_count": 108,
   "metadata": {},
   "outputs": [
    {
     "data": {
      "text/plain": [
       "Text(0.5, 0, 'Time, s')"
      ]
     },
     "execution_count": 108,
     "metadata": {},
     "output_type": "execute_result"
    },
    {
     "data": {
      "image/png": "[encoded data removed]",
      "text/plain": [
       "<Figure size 432x288 with 1 Axes>"
      ]
     },
     "metadata": {
      "needs_background": "light"
     },
     "output_type": "display_data"
    }
   ],
   "source": [
    "k3=0\n",
    "k4=0\n",
    "k5=0\n",
    "k6=0\n",
    "F=np.zeros(len(t))\n",
    "\n",
    "for i in range (2,len(t)+1):\n",
    "    F[i-1]=integrate.trapz(E[0:i],t[0:i])\n",
    "    \n",
    "for i in range(0,len(t)):\n",
    "    if 14.99 < t[i] < 15.03:\n",
    "        k3=i\n",
    "    if 19.99 < t[i] < 20.02:\n",
    "        k4=i\n",
    "    if 24.99 < t[i] < 25.02:\n",
    "        k5=i\n",
    "    if 29.99 < t[i] < 30.02:\n",
    "        k6=i      \n",
    "\n",
    "plt.plot(t,F)\n",
    "plt.ylabel('F, 1/s')\n",
    "plt.xlabel('Time, s')"
   ]
  },
  {
   "cell_type": "code",
   "execution_count": 109,
   "metadata": {},
   "outputs": [
    {
     "data": {
      "text/plain": [
       "[<matplotlib.lines.Line2D at 0x7f8a7a097ba8>]"
      ]
     },
     "execution_count": 109,
     "metadata": {},
     "output_type": "execute_result"
    },
    {
     "data": {
      "image/png": "[encoded data removed]",
      "text/plain": [
       "<Figure size 432x288 with 1 Axes>"
      ]
     },
     "metadata": {
      "needs_background": "light"
     },
     "output_type": "display_data"
    }
   ],
   "source": [
    "k = 0.06\n",
    "CA0 = 2.0\n",
    "del_lam=-30./1000.  \n",
    "xplot=np.zeros(len(t))\n",
    "X=0\n",
    "\n",
    "for i in range(1,len(E)):\n",
    "        Xnew=X+del_lam*(-k*CA0*pow((1.-X),2)+X*E[len(E)-1-i]/(1.-F[len(E)-1-i])) # explicit Euler\n",
    "        X=Xnew\n",
    "        xplot[i]=Xnew\n",
    "                                                    \n",
    "plt.plot(t,xplot)"
   ]
  },
  {
   "cell_type": "markdown",
   "metadata": {},
   "source": [
    "-------------------------------------------------------------------"
   ]
  },
  {
   "cell_type": "markdown",
   "metadata": {},
   "source": [
    "**Q2**. Evaluation of dead zones in a gas/liquid contactor. The problem is “Chemical Reaction Engineering”, 3rd Ed. 1999, by Octave Levenspiel (Example 12.1, page 289). From the measured pulse tracer response, find the fraction of gas, of flowing liquid, and of stagnant liquid in the gas-liquid contactor.\n",
    "\n",
    "(The contactor is a packed column filled, for example, with Raschig rings)."
   ]
  },
  {
   "cell_type": "markdown",
   "metadata": {},
   "source": [
    "![Q2.png](S3Q2.png)"
   ]
  },
  {
   "cell_type": "markdown",
   "metadata": {},
   "source": [
    "**Answer 2**.\n",
    "\n",
    "Volumetric flow rates of gas and liquid are given (constant) as $m3/s$. \n",
    "\n",
    "If we know the mean **residence time** of each phase in the reactor, we will be able to find the occupied volume by that phase.\n",
    "\n",
    "For the liquid phase the tracer output is near- symmetrical and can be well approximated by the mean\n",
    "residence time of $\\bar{t}_{liquid}=40s$.\n",
    "\n",
    "For the gas phase, we need to find mean residence time. The tracer concentration value is not given on the vertical axis. \n",
    "\n",
    "Let $x$ be maximum $C_g$ at $9 s$:\n",
    "\n",
    "$\\int_0^\\infty C(t) dt=\\frac{9-6}{2}x+\\frac{15-9}{2}x=4.5x\\;\\;\\; \\frac{mol}{L*s}$\n",
    "\n",
    "\n",
    "\n",
    "1) $E(t)=0$ for $t=<6 s$ and $t>=15s$\n",
    "\n",
    "2) For $6=<t=<9 s$, the slope is $(x-0)/(9-6)=x/3$; \n",
    "\n",
    "so the line eqaution is $C(t)=x/3*(t-6)$.\n",
    "\n",
    "Then $E(t)=\\frac{C(t)}{\\int_0^\\infty C(t) dt}=\\frac{\\frac{x}{3}(t-6)}{4.5x}=\\frac{t-6}{13.5}$\n",
    "\n",
    "\n",
    "For $9=<t=<15 s$, the slope is $(0-x)/(15-9)=-x/6$; \n",
    "\n",
    "so the line eqaution is $C(t)=-x/6*(t-15)$.\n",
    "\n",
    "Then $E(t)=\\frac{C(t)}{\\int_0^\\infty C(t) dt}=\\frac{\\frac{-x}{6}(t-15)}{4.5x}=\\frac{15-t}{27}$\n",
    "\n",
    "So mean residence time for gas is \n",
    "$\\bar{t}_{gas}=\\int_0^\\infty tE(t)dt=0+\\frac{1}{13.5}\\int_6^9 t(t-6)dt+\\frac{1}{27}\\int_9^{15}t(15-t)dt+0$\n",
    "$\\bar{t}_{gas}=\\frac{1}{13.5}(\\frac{9^3}{3}-\\frac{6^3}{3})-\\frac{6}{13.5}(\\frac{9^2}{2}-\\frac{6^2}{2})+\\frac{15}{27}(\\frac{15^2}{2}-\\frac{9^2}{2})-\\frac{1}{27}(\\frac{15^3}{3}-\\frac{9^3}{3})=10s$\n"
   ]
  },
  {
   "cell_type": "code",
   "execution_count": 104,
   "metadata": {},
   "outputs": [
    {
     "name": "stdout",
     "output_type": "stream",
     "text": [
      "mean residence time =10.0 (s)\n"
     ]
    },
    {
     "data": {
      "text/plain": [
       "Text(0.5, 0, 'Time, s')"
      ]
     },
     "execution_count": 104,
     "metadata": {},
     "output_type": "execute_result"
    },
    {
     "data": {
      "image/png": "[encoded data removed]",
      "text/plain": [
       "<Figure size 432x288 with 1 Axes>"
      ]
     },
     "metadata": {
      "needs_background": "light"
     },
     "output_type": "display_data"
    }
   ],
   "source": [
    "import scipy.integrate as integrate\n",
    "import matplotlib.pyplot as plt\n",
    "import numpy as np\n",
    "\n",
    "t2=np.linspace(0.,15,1000)\n",
    "E2=np.zeros(len(t2))\n",
    "\n",
    "for i in range(0,len(t2)):\n",
    "    if 0<t2[i]<6: \n",
    "        E2[i]=0\n",
    "    elif 6<=t2[i]<9:\n",
    "        E2[i]=(t2[i]-6)/13.5\n",
    "    elif 9<=t2[i]<=15:\n",
    "        E2[i]=(15-t2[i])/27.\n",
    "    else:\n",
    "        E2[i]=0\n",
    "\n",
    "t_r=np.zeros(len(t2))\n",
    "for i in range(0,len(t2)):\n",
    "    t_r[i]=t2[i]*E2[i]\n",
    "\n",
    "tr = integrate.trapz(t_r, t2)\n",
    "\n",
    "print (\"mean residence time ={0:.1f}\".format(tr), '(s)')\n",
    "\n",
    "plt.plot(t2,E2)\n",
    "plt.ylabel('E(t), 1/s')\n",
    "plt.xlabel('Time, s')"
   ]
  },
  {
   "cell_type": "markdown",
   "metadata": {},
   "source": [
    "Since the volumetric flow rates are constant, the contactor **volume occupied by liquid** is $\\bar{t}_{liquid}*Q(L)=40s*0.1m^3/s=4m^3$. \n",
    "\n",
    "The **volume occupied by the gas** is $\\bar{t}_{gas}= 10s* 0.5 m^3/s = 5 m^3$.\n",
    "\n",
    "So, the **total active volume** of the contactor is $5+4 = 9 m^3$. \n",
    "\n",
    "The **total volume with Raschig rings** is $1 m^2 * 20 m= 20 m^3$, but the voidage (i.e., free space without the rings) is $0.5$, so the **total volume available for the fluids** is $10 m^3$. Thus, $10 – 9 = 1 m^3$ is not active, i.e., **dead (or stagnant) zone volume**. The contactor must be cured.\n",
    "\n",
    "**Fractions the voidage**:\n",
    "\n",
    "*Gas* $50\\%$, \n",
    "\n",
    "*Liquid* $40\\%$,\n",
    "\n",
    "and $10\\%$ *Stagnant liquid zone*. "
   ]
  },
  {
   "cell_type": "markdown",
   "metadata": {},
   "source": [
    "----------------------------------------------------------"
   ]
  },
  {
   "cell_type": "markdown",
   "metadata": {},
   "source": [
    "**Q3**. **Tanks-in-series and maximum mixedness models for a 1st order reaction**. Based on S. Fogler, Elements of Chemical Reaction Engineering, 4th Ed. P14-8. The following E(t) curve was obtained from a tracer test on a reactor (time in minutes):\n",
    "\n",
    "$E(t) = 0.25t\\;\\;\\;$  for   $\\;\\;\\;0<t<2$ \n",
    "\n",
    "$E(t) = 1 – 0.25t\\;\\;\\;$  for   $\\;\\;\\;2<t<4$\n",
    "\n",
    "$E(t) = 0\\;\\;\\;$  for   $\\;\\;\\;t>4$. \n",
    "\n",
    "The conversion predicted by the tanks-in-series model for the isothermal liquid-phase elementary reaction $A\\rightarrow B$ is $50\\%$ at $300 K$. \n",
    "\n",
    "What is the conversion predicted by the maximum mixedness model? \n",
    "\n",
    "What is the reaction rate constant at $300 K$?"
   ]
  },
  {
   "cell_type": "markdown",
   "metadata": {},
   "source": [
    "**Answer 3**. \n",
    "\n",
    "For a first order reaction, $X_{MM}=X_{TIS}=50\\%$\n",
    "\n",
    "$X_{TIS}=1-\\frac{1}{(1+Da)^n}$\n",
    "\n",
    "In a 1st order reaction: $Da=\\tau.k$\n",
    "\n",
    "$\\tau=\\bar{t}=\\int_0^\\infty t.E(t)dt=\\int_0^2 0.25t^2dt+\\int_2^4(1-0.25t)tdt=2 min$\n",
    "\n",
    "$\\sigma^2=\\int_0^\\infty E(t)(t-\\bar{t})^2dt=\\int_0^\\infty E(t)t^2dt-\\tau^2=\\frac{2}{3} min^2$\n",
    "\n",
    "$n=\\frac{\\tau^2}{\\sigma^2}=6$\n",
    "\n",
    "for $300k$ $X=50\\%$:\n",
    "\n",
    "$0.5=1-\\frac{1}{(1+k\\tau)^6}$\n",
    "here $\\tau_{tank}=\\frac{\\tau_{PFR}}{n_{tanks}}=\\frac{2}{6}$\n",
    "\n",
    "$0.5=1-\\frac{1}{(1+k*\\frac{2}{6})^6}$\n",
    "\n",
    "$k=0.367 min^{-1}$"
   ]
  },
  {
   "cell_type": "code",
   "execution_count": 121,
   "metadata": {},
   "outputs": [
    {
     "name": "stdout",
     "output_type": "stream",
     "text": [
      "mean residence time of PFR=2.0 (min)\n"
     ]
    },
    {
     "data": {
      "text/plain": [
       "Text(0.5, 0, 'Time, min')"
      ]
     },
     "execution_count": 121,
     "metadata": {},
     "output_type": "execute_result"
    },
    {
     "data": {
      "image/png": "[encoded data removed]",
      "text/plain": [
       "<Figure size 432x288 with 1 Axes>"
      ]
     },
     "metadata": {
      "needs_background": "light"
     },
     "output_type": "display_data"
    }
   ],
   "source": [
    "import scipy.integrate as integrate\n",
    "import matplotlib.pyplot as plt\n",
    "import numpy as np\n",
    "\n",
    "t3=np.linspace(0.,4,100)\n",
    "E3=np.zeros(len(t3))\n",
    "\n",
    "for i in range(0,len(t3)):\n",
    "    if 0<t3[i]<2: \n",
    "        E3[i]=0.25*t3[i]\n",
    "    elif 2<=t3[i]<4:\n",
    "        E3[i]=1-0.25*t3[i]\n",
    "    else:\n",
    "        E3[i]=0\n",
    "\n",
    "t_r3=np.zeros(len(t3))\n",
    "for i in range(0,len(t3)):\n",
    "    t_r3[i]=t3[i]*E3[i]\n",
    "\n",
    "tr3 = integrate.trapz(t_r3, t3)\n",
    "\n",
    "print (\"mean residence time of PFR={0:.1f}\".format(tr3), '(min)')\n",
    "\n",
    "plt.plot(t3,E3)\n",
    "plt.ylabel('E(t), 1/min')\n",
    "plt.xlabel('Time, min')"
   ]
  },
  {
   "cell_type": "code",
   "execution_count": 120,
   "metadata": {},
   "outputs": [
    {
     "name": "stdout",
     "output_type": "stream",
     "text": [
      "Varience of residence times = 0.667 min^2\n",
      "n = 6.000\n"
     ]
    }
   ],
   "source": [
    "v=np.zeros(len(t3))\n",
    "\n",
    "for i in range(0,len(t3)):\n",
    "    v[i]=t3[i]*t3[i]*E3[i]\n",
    "    \n",
    "\n",
    "Va = integrate.trapz(v, t3)\n",
    "Var=Va-(tr3*tr3)\n",
    "n=math.ceil((tr3*tr3)/Var)\n",
    "\n",
    "print (\"Varience of residence times = {0:.3f}\".format(Var), 'min^2')\n",
    "print (\"n = {0:.3f}\".format(n))"
   ]
  },
  {
   "cell_type": "markdown",
   "metadata": {},
   "source": [
    "$0.5=1-\\frac{1}{(1+k\\tau)^6}$\n",
    "\n",
    "\n",
    "$0.5=\\frac{1}{(1+k\\tau)^6}$\n",
    "\n",
    "$(1+k\\tau)^6=2$\n",
    "\n",
    "$1+k\\tau = 2^{1/6}$\n",
    "\n",
    "$k= \\frac{(2^{1/6} -1)}{\\tau}$\n"
   ]
  },
  {
   "cell_type": "code",
   "execution_count": 126,
   "metadata": {},
   "outputs": [
    {
     "name": "stdout",
     "output_type": "stream",
     "text": [
      "mean residence time of a CSTR=0.3 (min)\n",
      "k=0.367 (1/min)\n"
     ]
    }
   ],
   "source": [
    "trcstr = tr3/n\n",
    "k=(pow(2,1./6.)-1.)/trcstr\n",
    "\n",
    "print (\"mean residence time of a CSTR={0:.1f}\".format(trcstr), '(min)')\n",
    "print (\"k={0:.3f}\".format(k), '(1/min)')"
   ]
  },
  {
   "cell_type": "code",
   "execution_count": null,
   "metadata": {},
   "outputs": [],
   "source": []
  }
 ],
 "metadata": {
  "kernelspec": {
   "display_name": "Python 3",
   "language": "python",
   "name": "python3"
  },
  "language_info": {
   "codemirror_mode": {
    "name": "ipython",
    "version": 3
   },
   "file_extension": ".py",
   "mimetype": "text/x-python",
   "name": "python",
   "nbconvert_exporter": "python",
   "pygments_lexer": "ipython3",
   "version": "3.7.3"
  }
 },
 "nbformat": 4,
 "nbformat_minor": 2
}
