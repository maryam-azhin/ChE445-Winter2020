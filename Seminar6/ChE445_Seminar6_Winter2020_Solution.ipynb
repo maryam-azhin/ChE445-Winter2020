{
 "cells": [
  {
   "cell_type": "markdown",
   "metadata": {},
   "source": [
    "                                   T.A. Maryam Azhin"
   ]
  },
  {
   "cell_type": "markdown",
   "metadata": {},
   "source": [
    "Department of Chemical and Materials Engineering, University of Alberta"
   ]
  },
  {
   "cell_type": "markdown",
   "metadata": {},
   "source": [
    "*CH E 445 Chemical Reactor Analysis II – Winter 2020*"
   ]
  },
  {
   "cell_type": "markdown",
   "metadata": {},
   "source": [
    "***Seminar 6 - Reaction mechanisms of heterogeneous catalytic reactions: Langmuir chemisorption and Langmuir-Hinshelwood model***"
   ]
  },
  {
   "cell_type": "markdown",
   "metadata": {},
   "source": [
    "----"
   ]
  },
  {
   "cell_type": "markdown",
   "metadata": {},
   "source": [
    "**Q1. Langmuir adsorption isotherm for a competitive non-dissociative adsorption**\n",
    "\n",
    "Derive Langmuir adsorption isotherms for a competitive non-dissociative adsorption of molecules A and B on the catalyst surface."
   ]
  },
  {
   "cell_type": "markdown",
   "metadata": {},
   "source": [
    "\\begin{align}\n",
    "    {A + S} &\\rightleftharpoons AS;\\; K_A=\\frac{\\theta_A}{[A]\\theta_S}\\\\\n",
    "    {B+S} &\\rightleftharpoons BS;\\; K_B=\\frac{\\theta_B}{[B]\\theta_S}\n",
    "\\end{align}\n",
    "\n",
    "$\\theta_i$ is the fraction of surface (Active sites)\n",
    "\n",
    "Surface balance:\n",
    "\n",
    "\\begin{eqnarray}\n",
    "\\theta_A+\\theta_B+\\theta_S=1\\\\\n",
    "K_A[A]\\theta_S+K_B[B]\\theta_S+\\theta_S=1\\\\\n",
    "\\theta_S=\\frac{1}{K_A[A]+K_B[B]+1}\n",
    "\\end{eqnarray}\n",
    "Then\n",
    "\\begin{eqnarray}\n",
    "\\theta_A=\\frac{K_A[A]}{K_A[A]+K_B[B]+1}\\\\\n",
    "\\theta_B=\\frac{K_B[B]}{K_A[A]+K_B[B]+1}\n",
    "\\end{eqnarray}"
   ]
  },
  {
   "cell_type": "markdown",
   "metadata": {},
   "source": [
    "----"
   ]
  },
  {
   "cell_type": "markdown",
   "metadata": {},
   "source": [
    "**Q 2. Langmuir adsorption isotherm for a monomolecular dissociative adsorption**\n",
    "\n",
    "Derive Langmuir adsorption isotherm for a dissociative adsorption of hydrogen on the Pt catalyst surface."
   ]
  },
  {
   "cell_type": "markdown",
   "metadata": {},
   "source": [
    "\\begin{align}\n",
    "    {H_2 + 2S} &\\rightleftharpoons 2(HS);\\; K_{H2}=\\frac{\\theta_H^2}{[H_2]\\theta_S^2}\n",
    "\\end{align}\n",
    "\n",
    "$\\theta_i$ is the fraction of surface (Active sites)\n",
    "\n",
    "Surface balance:\n",
    "\n",
    "\\begin{eqnarray}\n",
    "\\theta_H+\\theta_S=1\\\\\n",
    "\\theta_S+\\theta_S(K_{H2}[H_2])^{0.5}=1\\\\\n",
    "\\theta_S=\\frac{1}{1+(K_{H2}[H_2])^{0.5}}\n",
    "\\end{eqnarray}\n",
    "Then\n",
    "\\begin{eqnarray}\n",
    "\\theta_H=\\frac{(K_{H2}[H_2])^{0.5}}{1+(K_{H2}[H_2])^{0.5}}\n",
    "\\end{eqnarray}"
   ]
  },
  {
   "cell_type": "markdown",
   "metadata": {},
   "source": [
    "---------"
   ]
  },
  {
   "cell_type": "markdown",
   "metadata": {},
   "source": [
    "**Q 3. Langmuir-Hinshelwood reaction mechanism: bimolecular reaction with nondissociative and dissociative competitive adsorption**\n",
    "\n",
    "Experimental study of a catalytic hydrogenation revealed:\n",
    "\n",
    "$\\frac{1}{2}$ order to $H_2$,\n",
    "\n",
    "1st order to the hydrogenated reactant $A$, \n",
    "\n",
    "and $-2^{nd}$ order to the product $P$ (or $AH_2$). \n",
    "\n",
    "It is suggested that the reaction follows a Langmuir-Hinshelwood mechanism with non-dissociative adsorption of $A$ and $P$ and dissociative adsorption of $H_2$. Irreversible addition of $1^{st}$ hydrogen atom to the adsorbed $A$ is an RDS, while the second hydrogen atom addition can be considered fast and in equilibrium. \n",
    "\n",
    "Derive a rate law and suggest assumptions to satisfy the experimental data."
   ]
  },
  {
   "cell_type": "markdown",
   "metadata": {},
   "source": [
    "\\begin{align}\n",
    "    {A + S} &\\rightleftharpoons AS;\\; \\theta_A=K_A[A]\\theta_s\\;\\; (fast, equil.)\\\\\n",
    "    {H_2+2S} &\\rightleftharpoons 2(HS);\\; \\theta_H=\\theta_s(K_{H2}[H_2])^{0.5}\\;\\;(fast, equil.)\\\\\n",
    "    {AS + HS} &\\rightleftharpoons AHS+S;\\;r=k\\theta_H\\theta_A\\;\\; (RDS)\\\\\n",
    "    {AHS + HS} &\\rightleftharpoons PS+S;\\;K_{AH}=\\frac{\\theta_P\\theta_S}{\\theta_{AH}\\theta_H}\\;\\; (fast, equil.)\\\\\n",
    "   {PS} &\\rightleftharpoons P+S;\\; \\theta_p=K_P[P]\\theta_s\\;\\; (fast, equil.)\\\\ \n",
    "\\end{align}\n",
    "\n",
    "\n",
    "\\begin{eqnarray}\n",
    "    \\theta_{AH}=\\frac{\\theta_P\\theta_S}{K_{AH}\\theta_S(K_{H2}[H_2])^{0.5}}\\\\\n",
    "    \\theta_{AH}=\\frac{\\theta_P}{K_{AH}(K_{H2}[H_2])^{0.5}}\n",
    "\\end{eqnarray}\n",
    "\n",
    "$\\theta_i$ is the fraction of surface (Active sites)\n",
    "\n",
    "Surface balance:\n",
    "\n",
    "\\begin{eqnarray}\n",
    "\\theta_A+\\theta_H+\\theta_{AH}+\\theta_P+\\theta_S=1\\\\\n",
    "K_A[A]\\theta_S+\\theta_S(K_{H2}[H_2])^{0.5}+\\frac{K_P[P]\\theta_S}{K_{AH}K_{H2}[H_2])^{0.5}}+K_P[P]\\theta_S+\\theta_S=1\\\\\n",
    "\\theta_S=\\frac{1}{K_A[A]+(K_{H2}[H_2])^{0.5}+\\frac{K_P[P]}{K_{AH}K_{H2}[H_2])^{0.5}}+K_P[P]+1}\n",
    "\\end{eqnarray}\n",
    "Then by apply it in RDS \n",
    "\\begin{eqnarray}\n",
    "r=k\\theta_A\\theta_H=\\frac{kK_A[A](K_{H2}[H_2])^{0.5}}{(K_A[A]+(K_{H2}[H_2])^{0.5}+\\frac{K_P[P]}{K_{AH}(K_{H2}[H_2])^{0.5}}+K_P[P]+1)^2}\n",
    "\\end{eqnarray}"
   ]
  },
  {
   "cell_type": "markdown",
   "metadata": {},
   "source": [
    "Can we match it to the experimantal data?"
   ]
  },
  {
   "cell_type": "markdown",
   "metadata": {},
   "source": [
    "I) 0.5 order to $H_2$:\n",
    "\n",
    "nominator: has power 0.5 but to exclude $[H_2]$ from denominator we can assume that surface coverage with $H$ and $AH$ is small, so $\\theta_H$ and $\\theta_{AH}$ can be neglected in the surface balance and,\n",
    "\n",
    "\\begin{eqnarray}\n",
    "r=\\frac{kK_A[A](K_{H2}[H_2])^{0.5}}{(K_A[A]+K_P[P]+1)^2}\n",
    "\\end{eqnarray}\n"
   ]
  },
  {
   "cell_type": "markdown",
   "metadata": {},
   "source": [
    "II) $1^{st}$ order to $[A]$ and $-2^{nd}$ order to $P$: So we need $[A]^1$ and $[P]^{-2}$\n",
    "\n",
    "To match the above rate law we have to assume that $K_P[P]>>K_A[A]+1$, that is, $P$ is the most abundant surface intermediate and occupied almost all active sites:\n",
    "\n",
    "Assume: $\\theta_P=1$\n",
    "\n",
    "Then the RDS reaction rate law will be:\n",
    "\n",
    "\\begin{eqnarray}\n",
    "r=\\frac{kK_AK_{H2}^{0.5}[A][H_2]^{0.5}}{K_P^2[P]^2}\n",
    "\\end{eqnarray}"
   ]
  }
 ],
 "metadata": {
  "kernelspec": {
   "display_name": "Python 3",
   "language": "python",
   "name": "python3"
  },
  "language_info": {
   "codemirror_mode": {
    "name": "ipython",
    "version": 3
   },
   "file_extension": ".py",
   "mimetype": "text/x-python",
   "name": "python",
   "nbconvert_exporter": "python",
   "pygments_lexer": "ipython3",
   "version": "3.7.3"
  }
 },
 "nbformat": 4,
 "nbformat_minor": 2
}
