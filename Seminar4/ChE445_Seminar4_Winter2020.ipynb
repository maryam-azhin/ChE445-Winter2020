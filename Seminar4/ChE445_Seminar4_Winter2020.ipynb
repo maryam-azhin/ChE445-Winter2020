{
 "cells": [
  {
   "cell_type": "markdown",
   "metadata": {},
   "source": [
    "                                         T.A. Maryam Azhin"
   ]
  },
  {
   "cell_type": "markdown",
   "metadata": {},
   "source": [
    "**Multiple reactions in an ideal isothermal reactor. Reactor descriptors**"
   ]
  },
  {
   "cell_type": "markdown",
   "metadata": {},
   "source": [
    "**Q1. Multiple reactions.**\n",
    "The following gas-phase reactions were carried out in an isothermal PFR without pressure drop:\n",
    "\n",
    "Rxn1). $3A \\rightarrow B+C;\\;\\;\\;$ $-r_{1A} = k_{1A}C_{A};\\;\\; k_{1A} = 7 min^{-1}$\n",
    "\n",
    "Rxn2). $2C+A \\rightarrow 3D;\\;\\;\\;$ $r_{2D} = k_{2D}C_{A}^2C_{C}$; $k_{2D} = 10000 dm^6 mol^{-2} min^{-1}$\n",
    "\n",
    "Rxn3). $4D+3C \\rightarrow 3E;\\;\\;$ $r_{3E} = k_{3E}C_DC_C$; $k_{3E} = 8000 dm^3 mol^{-1} min^{-1}$\n",
    "\n",
    "The total concentration of pure $A$ entering the reactor is $0.2 mol/dm^3$, and entering volumetric flow rate is\n",
    "$10 dm^3/min$.\n",
    "Find reactor volume to achieve maximum yield of $D$.\n",
    "Find STY and integral reactor selectivity at the point of maximum $D$ yield.\n",
    "A similar problem and its solution can be found in the online resources accompanying the book by Fogler:\n",
    "http://umich.edu/~elements/06chap/frames.htm (go to “Learning Resources” $\\rightarrow$ “Summary Notes” $\\rightarrow$\n",
    "scroll down to Example C: gas phase PFR, no pressure drop)."
   ]
  },
  {
   "cell_type": "markdown",
   "metadata": {},
   "source": [
    "**Answer:**\n",
    "\n",
    "**Mole Balance** for each species in the PFR:\n",
    "$$\\frac{dF_A}{dV}=r_A; \\;\\; \\frac{dF_B}{dV}=r_B;\\;\\;\\frac{dF_C}{dV}=r_C;\\;\\;\\frac{dF_D}{dV}=r_D;\\;\\;\\frac{dF_E}{dV}=r_E$$\n",
    "\n",
    "**B.C.:**\n",
    "At $V_0=0$, all $F_{i0}=0$ \n",
    "   except for $F_{A0}=C_{A0}Q_0=0.2*10=2 mol/min$\n",
    "   \n",
    "**Rate Laws:**\n",
    "\n",
    "$$r_j=\\sum r_{ij}$$ Where $j$ is the species and $i$ is the reaction number.\n",
    "\n",
    "$$r_A=r_{1A}+r_{2A}; \\;\\;\\;\\; r_B=r_{1B}; \\;\\;\\;\\;r_c=r_{1c}+r_{2c}+r_{3c}; \\;\\;\\;\\;r_D=r_{2D}+r_{3D}; \\;\\;\\;\\;r_E=r_{3E}$$\n",
    "\n",
    "$$-r_{1A} = -k_{1A}C_{A};\\;\\;\\;\\;\\; k_{1A} = 7 min^{-1}$$\n",
    "\n",
    "$$r_{2D} = k_{2D}C_{A}^2C_{C};\\;\\;\\;\\;\\; k_{2D} = 10000 dm^6 mol^{-2} min^{-1}$$\n",
    "\n",
    "$$r_{3E} = k_{3E}C_DC_C;\\;\\;\\;\\;\\; k_{3E} = 8000 dm^3 mol^{-1} min^{-1}$$\n",
    "\n",
    "**Reaction rate connections.**\n",
    "\n",
    "Rxn1).$$\\frac{r_{1A}}{-3}=\\frac{r_{1B}}{+1}=\\frac{r_{1C}}{+1}$$\n",
    "$$r_{1B}=\\frac{-r_{1A}}{3}$$\n",
    "$$r_{1C}=\\frac{-r_{1A}}{3}$$\n",
    "\n",
    "Rxn2). $$\\frac{r_{2C}}{-2}=\\frac{r_{2A}}{-1}=\\frac{r_{2D}}{+3}$$\n",
    "$$r_{2A}=-1/3r_{2D}$$\n",
    "$$r_{2C}=-2/3r_{2D}$$\n",
    "\n",
    "Rxn3). $$\\frac{r_{3D}}{-4}=\\frac{r_{3C}}{-3}=\\frac{r_{3E}}{+3}$$\n",
    "$$r_{3C}=-r_{3E}$$\n",
    "$$r_{3D}=-4/3r_{3E}$$\n",
    "\n",
    "**Stoichiometry**\n",
    "Constant T and P\n",
    "\n",
    "$$C_A=C_{T0}\\frac{F_A}{F_T};\\;\\;\\;\\;C_C=C_{T0}\\frac{F_C}{F_T};\\;\\;\\;\\; C_D=C_{T0}\\frac{F_D}{F_T}$$\n",
    "$$C_{T0}=0.2 mol/dm^3$$\n",
    "$$F_T=F_A+F_B+F_C+F_D+F_E$$\n",
    "\n",
    "\n",
    "$$\\frac{dF_A}{dV}=r_{1A}+r_{2A}=-k_{1A}C_{A}-1/3(k_{2D}C_{A}^2C_{C})=-7C_{A}-(10000C_{A}^2C_{C})/3$$\n",
    "\n",
    "$$\\frac{dF_B}{dV}=r_{1B}=k_{1A}C_{A}/3$$\n",
    "\n",
    "$$\\frac{dF_C}{dV}=r_{1c}+r_{2c}+r_{3c}=1/3k_{1A}C_{A}-2k_{2D}C_{A}^2C_{C}/3-k_{3E}C_DC_C=7C_{A}/3-20000C_{A}^2C_{C}/3-8000C_DC_C$$\n",
    "\n",
    "$$\\frac{dF_D}{dV}=r_{2D}+r_{3D}=k_{2D}C_{A}^2C_{C}+k_{3E}C_DC_C=10000C_{A}^2C_{C}+8000C_DC_C$$\n",
    "\n",
    "$$\\frac{dF_E}{dV}=r_{3E}=k_{3E}C_DC_C=8000C_DC_C$$\n",
    "\n",
    "\n",
    "Applying any ODE solver\n",
    "at $V=0.664 L$, $F_{Dmax}=0.146 \\frac{mol}{min}$\n",
    "\n",
    "$$STY=\\frac{mol_D}{time. V_{reactor}}=\\frac{0.146}{0.664}=0.22 \\frac{mol}{min.L}=13 \\frac{kmol_D}{m^3.h}$$\n",
    "\n",
    "$$S_D=\\frac{F_D}{F_D+F_B+F_C+F_E}=\\frac{0.146}{0.146+0.26+0.01+0.08}=29\\%$$\n",
    "\n",
    "All products are at the same reactor point $= 0.664$"
   ]
  },
  {
   "cell_type": "code",
   "execution_count": 1,
   "metadata": {},
   "outputs": [
    {
     "name": "stdout",
     "output_type": "stream",
     "text": [
      "0.14593829696802288\n",
      "[13]\n",
      "[0.65656566]\n"
     ]
    }
   ],
   "source": [
    "from scipy.integrate import odeint\n",
    "import matplotlib.pyplot as plt\n",
    "import numpy as np\n",
    "\n",
    "CT0=0.2 #mol/dm^3\n",
    "CA0=0.2 #\n",
    "Q0=10.  #\n",
    "FA0=CA0*Q0 # mol/min\n",
    "k1=7.\n",
    "k2=10000.\n",
    "k3=8000.\n",
    "                                                 \n",
    "V=np.linspace(0.,5.,100)\n",
    "FA=np.zeros(len(V))\n",
    "FB=np.zeros(len(V))\n",
    "FC=np.zeros(len(V))\n",
    "FD=np.zeros(len(V))\n",
    "FE=np.zeros(len(V))\n",
    "\n",
    "F=[FA,FB,FC,FD,FE]\n",
    "\n",
    "def fun(F,V):\n",
    "       k1=7.\n",
    "       k2=10000.\n",
    "       k3=8000.\n",
    "       CT0=0.2\n",
    "       FT=F[0]+F[1]+F[2]+F[3]+F[4]\n",
    "       Ca=CT0*F[0]/FT\n",
    "       Cc=CT0*F[2]/FT\n",
    "       Cd=CT0*F[3]/FT\n",
    "       dFdV= [-k1*Ca-k2*pow(Ca,2)*Cc/3., k1*Ca/3., k1*Ca/3.-2.*k2*pow(Ca,2)*Cc/3.-k3*Cd*Cc, k2*pow(Ca,2)*Cc-4.*k3*Cd*Cc/3., k3*Cd*Cc]\n",
    "       return dFdV\n",
    "    \n",
    "       #dFAdV=-k1*CA-k2*CA^2*CC/3                #r1A+r2A\n",
    "       #dFBdV=k1*CA/3                            #r1B\n",
    "       #dFCdV=k1*CA/3-2*k2*CA^2*CC/3-k3*CD*CC    #r1C+r2C+r3C\n",
    "       #dFDdV=k2*CA^2CC-4*k3*CD*CC/3             #r2D+r3D\n",
    "       #dFEdV=k3*CD*CC                           #r3E\n",
    "\n",
    "init_F= [FA0,0,0,0,0]\n",
    "FS=odeint(fun,init_F,V)\n",
    "\n",
    "plt.plot(V, FS[:,0], 'b-', label='FA')\n",
    "plt.plot(V, FS[:,1], 'r-', label='FB')\n",
    "plt.plot(V, FS[:,2], 'b*', label='FC')\n",
    "plt.plot(V, FS[:,3], 'r*', label='FD')\n",
    "plt.plot(V, FS[:,4], 'b.', label='FE')\n",
    "\n",
    "plt.xlabel('V')\n",
    "plt.ylabel('mol/min')\n",
    "\n",
    "print(max(FS[:,3]))\n",
    "result=np.where(FS[:,3] == np.amax(FS[:,3]))\n",
    "print(result[0])\n",
    "print(V[result[0]])"
   ]
  },
  {
   "cell_type": "code",
   "execution_count": 2,
   "metadata": {},
   "outputs": [
    {
     "name": "stdout",
     "output_type": "stream",
     "text": [
      "STY= [22.22752523]\n",
      "S_D= [29.57249593]\n"
     ]
    }
   ],
   "source": [
    "STY=max(FS[:,3])/V[result[0]] #\\frac{kmol_D}{m^3.h}$\n",
    "S_D=100.*FS[result[0],3]/(FS[result[0],1]+FS[result[0],2]+FS[result[0],3]+FS[result[0],4])\n",
    "print(\"STY=\", STY*100)\n",
    "print(\"S_D=\", S_D)\n",
    "#All products are at the same reactor point $= 0.664$"
   ]
  },
  {
   "cell_type": "markdown",
   "metadata": {},
   "source": [
    "---------------------------------------------------------------------------------------"
   ]
  },
  {
   "cell_type": "markdown",
   "metadata": {},
   "source": [
    "**Q2. Some PBR descriptors: WHSV, LHSV and GHSV.**\n",
    "\n",
    "Hydrodesulfurization (HDS) of dibenzothiophene (DBT) was performed over a Co-Mo/Al2O3 catalyst\n",
    "$(0.09 g)$ at $5.0 MPa$ and $300 ^oC$. \n",
    "\n",
    "$0.5 wt\\%$ DBT solution in n-decane was fed by a pump at $0.05 cc/min$.\n",
    "Liquid decane density is $0.73 g/cc$. Hydrogen was fed at $100 sccm$ (standard cubic centimeters per minute).\n",
    "The liquid feed is completely vaporized under the reaction conditions. The catalyst (alumina) density is $4\n",
    "g/cm^3$, the bed porosity is $0.2$. Internal cross-sectional area of the reactor tube is $0.8 cm^2$. Assume ideal\n",
    "gas.\n",
    "\n",
    "a). Calculate \tWeight Hourly Space Velocity (WHSV).\n",
    "\n",
    "b). Find Liquid Hourly Space Velocity(LHSV) and Gas Hourly Space Velocity(GHSV).\n",
    "\n",
    "c). Find superficial and interstitial (true) linear velocity of hydrogen at the bed entrance\n"
   ]
  },
  {
   "cell_type": "markdown",
   "metadata": {},
   "source": [
    "![PFR.png](S4Q2.png)"
   ]
  },
  {
   "cell_type": "markdown",
   "metadata": {},
   "source": [
    "Liquid: $0.5 wt\\%$ DBT in decane. \n",
    "\n",
    "Assume density = density of decane"
   ]
  },
  {
   "cell_type": "markdown",
   "metadata": {},
   "source": [
    "**a)**. \n",
    "\n",
    "WHSV=LWHSV+GWHSV\n",
    "\n",
    "$LWHSV=\\frac{\\dot{m}(DBT+Decane)}{W_{cat}}=\\frac{0.05 [cc Liq. feed.min^{-1}]*0.73 [g/cc]*60}{0.09 [g]}=24.33 [h^{-1}]$"
   ]
  },
  {
   "cell_type": "markdown",
   "metadata": {},
   "source": [
    "Gas flow rate: $PQ=FRT$\n",
    "\n",
    "\n",
    "Q=100 cm^3.min^{-1} at Standard Temperature & Pressure (STP)\n",
    "\n",
    "$\\dot{m}_{h_2}=\\frac{100 cm^3.min^{-1}*10^5 Pa*60 min.h^{-1}}{8.314 [m^3⋅Pa⋅K^{−1}⋅mol^{−1}] *10^6 [cm^3.m^{-3}] *273.15 K}*2g.mol^{-1} [MW of H2]=0.53 g/h$"
   ]
  },
  {
   "cell_type": "markdown",
   "metadata": {},
   "source": [
    "$WHSV=\\frac{2.19 [L]+0.53 [G]}{0.09 [gCat]}=30.2 h^{-1}$"
   ]
  },
  {
   "cell_type": "markdown",
   "metadata": {},
   "source": [
    "**b)**.\n",
    "\n",
    "$V_{bed}=\\frac{m_{bed}}{\\rho_{bed}}=\\frac{m_{cat}}{\\rho_{cat}(1-\\Phi_{bed})}= \\frac{0.09 g}{4(1-0.2)}= 0.028$\n",
    "\n",
    "$LHSV=\\frac{Q_{l0}(STP)}{V_{cat.bed}}=\\frac{0.05 [cc.min^{-1}]*60}{0.028}=107 [h^{-1}]$ Feed from pump\n"
   ]
  },
  {
   "cell_type": "markdown",
   "metadata": {},
   "source": [
    "$GHSV (H_2)=\\frac{Q_{0}(STP)}{V_{cat.bed}}=\\frac{100 sccm* 60}{0.028}=214285.7 h^{-1}$"
   ]
  },
  {
   "cell_type": "markdown",
   "metadata": {},
   "source": [
    "**c)**.\n",
    "\n",
    "$u_s=\\frac{Q_0(rxn)}{A_c}$\n",
    "\n",
    "$Q_0(rxn)=Q_0(STP)*\\frac{T(rxn)}{T(STP)}*\\frac{P(STP)}{P(rxn)}=100(sccm)*60 (min/h)*\\frac{573K}{273.15}\\frac{0.1 MPa}{5 MPa}=252 \\frac{cm^3}{h}$\n",
    "\n",
    "$u_s=\\frac{252}{0.8}=314 \\frac{cm}{h}$\n",
    "\n",
    "True (interstitial velocity):\n",
    "$u_i=\\frac{u_s}{\\Phi_{bed}}=\\frac{315}{0.2}=1573 \\frac{cm}{h}$"
   ]
  },
  {
   "cell_type": "code",
   "execution_count": 3,
   "metadata": {},
   "outputs": [],
   "source": [
    "Ql0=0.05 #DBT+Decane cc Liq. feed.min^{-1}\n",
    "Pstp = 0.1  #MPa\n",
    "Tstp = 273.15 #K\n",
    "Prxn = 5.0 #𝑀𝑃𝑎\n",
    "Trxn = 573.15 #K\n",
    "rol = 0.73 #Liquid decane density, 𝑔/𝑐𝑐\n",
    "w_cat = 0.09 # catalyst weight\n",
    "rho_cat = 4. # catalyst (alumina) density, 𝑔/𝑐𝑚^3\n",
    "phi_bed =0.2\n",
    "R = 8.314 #[m^3⋅Pa⋅K^{−1}⋅mol^{−1}] \n",
    "MW_H2 = 2 #g.mol^{-1}, [MW of H2]\n",
    "Qg0 = 100 #Vol. flow rate of Hydrogen was fed  (standard cubic centimeters per minute, sccm)\n",
    "Ac = 0.8  #Internal cross-sectional area of the reactor tube is, cm^2\n",
    "    \n",
    "LWHSV = Ql0*rol*60/w_cat #h^{-1}\n",
    "GWHSV =((Qg0*1000000*Pstp*60)*MW_H2/(R*1000000*Tstp))/w_cat #=0.53 g/h$\n",
    "WHSV=LWHSV+GWHSV"
   ]
  },
  {
   "cell_type": "code",
   "execution_count": 4,
   "metadata": {},
   "outputs": [
    {
     "data": {
      "text/plain": [
       "30.204541943495986"
      ]
     },
     "execution_count": 4,
     "metadata": {},
     "output_type": "execute_result"
    }
   ],
   "source": [
    "WHSV"
   ]
  },
  {
   "cell_type": "code",
   "execution_count": 5,
   "metadata": {},
   "outputs": [],
   "source": [
    "rho_bed=rho_cat*(1-phi_bed)\n",
    "V_bed=w_cat/rho_bed\n",
    "\n",
    "LHSV=Ql0*60/V_bed # Feed from pump, h^{-1}\n",
    "GHSV=Qg0*60/V_bed #h^{-1}"
   ]
  },
  {
   "cell_type": "code",
   "execution_count": 6,
   "metadata": {},
   "outputs": [
    {
     "data": {
      "text/plain": [
       "213333.33333333334"
      ]
     },
     "execution_count": 6,
     "metadata": {},
     "output_type": "execute_result"
    }
   ],
   "source": [
    "GHSV"
   ]
  },
  {
   "cell_type": "code",
   "execution_count": 7,
   "metadata": {},
   "outputs": [],
   "source": [
    "Qg0rxn=Qg0*60*(Trxn/Tstp)*(Pstp/Prxn)  # cm^3/h\n",
    "us=Qg0rxn/Ac\n",
    "ui=us/phi_bed  #True (interstitial velocity)"
   ]
  },
  {
   "cell_type": "code",
   "execution_count": 8,
   "metadata": {},
   "outputs": [
    {
     "data": {
      "text/plain": [
       "314.74464579901155"
      ]
     },
     "execution_count": 8,
     "metadata": {},
     "output_type": "execute_result"
    }
   ],
   "source": [
    "us"
   ]
  },
  {
   "cell_type": "code",
   "execution_count": null,
   "metadata": {},
   "outputs": [],
   "source": []
  }
 ],
 "metadata": {
  "kernelspec": {
   "display_name": "Python 3",
   "language": "python",
   "name": "python3"
  },
  "language_info": {
   "codemirror_mode": {
    "name": "ipython",
    "version": 3
   },
   "file_extension": ".py",
   "mimetype": "text/x-python",
   "name": "python",
   "nbconvert_exporter": "python",
   "pygments_lexer": "ipython3",
   "version": "3.7.3"
  }
 },
 "nbformat": 4,
 "nbformat_minor": 2
}
