{
 "cells": [
  {
   "cell_type": "markdown",
   "metadata": {},
   "source": [
    "### Seminar 1 - Chemical Reactor Analysis II"
   ]
  },
  {
   "cell_type": "markdown",
   "metadata": {},
   "source": [
    "T.A. Maryam Azhin, \n",
    "Department of Chemical and Materials Engineering, University of Alberta"
   ]
  },
  {
   "cell_type": "markdown",
   "metadata": {},
   "source": [
    "**Q1**. For an exothermic reversible reaction occurring in an adiabatic PFR, qualitatively sketch the trends of $X$ and $T$ with reactor volume $V$. On the plot of $X$ vs $V$, also indicate how the equilibrium conversion would vary with the reactor temperature. Finally, sketch how you would expect the $X$, $X_{eq}$ and $T$ to look if a well-designed heat exchange jacket with constant temperature of coolant was added to the system."
   ]
  },
  {
   "cell_type": "markdown",
   "metadata": {},
   "source": [
    "**Answer**\n"
   ]
  },
  {
   "cell_type": "markdown",
   "metadata": {},
   "source": [
    "![PFR.png](PFR.png)"
   ]
  },
  {
   "cell_type": "markdown",
   "metadata": {},
   "source": [
    "![Q1fig.png](Q1fig.png)"
   ]
  },
  {
   "cell_type": "markdown",
   "metadata": {},
   "source": []
  },
  {
   "cell_type": "markdown",
   "metadata": {},
   "source": [
    "**Q2**. Consider a PFR with a volume of $50 dm^3$, used to conduct a liquid phase system of reactions. If $k_1=0.05 s^{-1}$ and $k_2=0.01 s^{-1}$, $C_{A0}= 1mol/dm^3$, and the volumetric flow rate is $50 dm^3/min$, find the outlet concentrations of A, D and U."
   ]
  },
  {
   "cell_type": "markdown",
   "metadata": {},
   "source": [
    "![1.png](1.png)"
   ]
  },
  {
   "cell_type": "markdown",
   "metadata": {},
   "source": [
    "**Answer**.\n",
    "\n",
    "In a liquid phase PFR. \n",
    "$\\nu_0=50 \\frac{dm^3}{min}=\\frac{50}{60}\\frac{dm^3}{s}$,  $C_{A0}= 1mol/dm^3$, $V=50 dm^3$\n",
    "\\begin{eqnarray}\n",
    "\\frac{dF_A}{dV}=r_A=-(k_1+k_2)C_A\\\\\n",
    "\\nu_0\\frac{dC_A}{dV}=r_A=-(k_1+k_2)C_A\\\\\n",
    "\\int_{C_{A0}}^{C_{A}}\\frac{dC_A}{C_A}=-\\frac{(k_1+k_2)}{\\nu_0}\\int_{0}^{V}dV\\\\\n",
    "C_{A}=C_{A0}exp(-(k_1+k_2)\\frac{V}{\\nu_0})\\\\\n",
    "C_A=0.0273 mol/dm^3\n",
    "\\end{eqnarray}"
   ]
  },
  {
   "cell_type": "code",
   "execution_count": 1,
   "metadata": {},
   "outputs": [
    {
     "data": {
      "text/plain": [
       "array([[1.        ],\n",
       "       [0.860708  ],\n",
       "       [0.7408182 ],\n",
       "       [0.63762818],\n",
       "       [0.54881165],\n",
       "       [0.47236657],\n",
       "       [0.40656968],\n",
       "       [0.34993777],\n",
       "       [0.30119421],\n",
       "       [0.25924026],\n",
       "       [0.22313016],\n",
       "       [0.19204991],\n",
       "       [0.16529888],\n",
       "       [0.14227406],\n",
       "       [0.12245642],\n",
       "       [0.10539921],\n",
       "       [0.09071794],\n",
       "       [0.07808165],\n",
       "       [0.0672055 ],\n",
       "       [0.05784431],\n",
       "       [0.04978706],\n",
       "       [0.04285212],\n",
       "       [0.03688317],\n",
       "       [0.03174564],\n",
       "       [0.02732372]])"
      ]
     },
     "execution_count": 1,
     "metadata": {},
     "output_type": "execute_result"
    }
   ],
   "source": [
    "import numpy as np\n",
    "from scipy.integrate import odeint\n",
    "\n",
    "CA0=1 #mol/dm^3\n",
    "V=50 #dm^3\n",
    "k1=0.05\n",
    "k2=0.01\n",
    "    \n",
    "V=np.linspace(0.,50.,25)\n",
    "Ca=np.zeros(len(V))\n",
    "\n",
    "def fun(Ca,V):\n",
    "    k1=0.05\n",
    "    k2=0.01\n",
    "    v0=50./60. #\\frac{dm^3}{s}\n",
    "    dcdv=-(k1+k2)/v0*Ca\n",
    "    return dcdv\n",
    "\n",
    "init_ca=1.0\n",
    "\n",
    "Ca=odeint(fun,init_ca,V)\n",
    "\n",
    "import matplotlib.pyplot as plt\n",
    "plt.plot(V, Ca, 'b-', label='Ca(t)')\n",
    "plt.xlabel(\"V\")\n",
    "plt.ylabel(\"Concentration, mol/dm^3\")\n",
    "Ca"
   ]
  },
  {
   "cell_type": "markdown",
   "metadata": {},
   "source": [
    "Both species $D$ and $U$ have the same type of rate equations.\n",
    "\\begin{eqnarray}\n",
    "\\frac{dF_D}{dV}=r_D=k_1C_A=k_1C_{A0}exp(-(k_1+k_2)\\frac{V}{\\nu_0})\\\\\n",
    "\\frac{dF_U}{dV}=r_U=k_1C_A=k_2C_{A0}exp(-(k_1+k_2)\\frac{V}{\\nu_0})\\\\\n",
    "\\frac{mole \\;\\;of\\;\\;D\\;\\;produced}{mole \\;\\;of\\;\\;U\\;\\;produced}=\\frac{k_1}{k_2}=5\n",
    "\\end{eqnarray}\n",
    "Also for every mole of $A$ consumed, 1 total mole of products are produced.\n",
    "\\begin{eqnarray}\n",
    "C_D=(1-0.0273)\\frac{5}{5+1}=0.8106\\;\\; \\frac{mol}{dm^3}\\\\\n",
    "C_U=(1-0.0273)\\frac{1}{5+1}=0.1621\\;\\; \\frac{mol}{dm^3}\n",
    "\\end{eqnarray}"
   ]
  },
  {
   "cell_type": "code",
   "execution_count": 5,
   "metadata": {},
   "outputs": [
    {
     "data": {
      "text/plain": [
       "array([0.02732372])"
      ]
     },
     "execution_count": 5,
     "metadata": {},
     "output_type": "execute_result"
    }
   ],
   "source": [
    "k1/k2\n",
    "Ca[24]"
   ]
  },
  {
   "cell_type": "code",
   "execution_count": 6,
   "metadata": {},
   "outputs": [],
   "source": [
    "CD=(1-Ca[len(Ca)-1])*k1/(k1+k2)"
   ]
  },
  {
   "cell_type": "code",
   "execution_count": 25,
   "metadata": {},
   "outputs": [
    {
     "name": "stdout",
     "output_type": "stream",
     "text": [
      "CD =  [0.81056357]\n"
     ]
    }
   ],
   "source": [
    "print(\"CD = \", CD)"
   ]
  },
  {
   "cell_type": "code",
   "execution_count": 26,
   "metadata": {},
   "outputs": [],
   "source": [
    "CU=(1-Ca[len(Ca)-1])*k2/(k1+k2)"
   ]
  },
  {
   "cell_type": "code",
   "execution_count": 27,
   "metadata": {},
   "outputs": [
    {
     "name": "stdout",
     "output_type": "stream",
     "text": [
      "CU =  [0.16211271]\n"
     ]
    }
   ],
   "source": [
    "print(\"CU = \", CU)"
   ]
  },
  {
   "cell_type": "markdown",
   "metadata": {},
   "source": [
    "**Q3**. A second order gas phase reaction is conducted in an adiabatic constant volume batch reactor.\n",
    "$A+B\\rightarrow C$, $-r_A=kC_AC_B$, $k=20 \\frac{dm^3}{mol.s}$ at $400 K$. The initial reactor temperature is $400 K$, and the initial pressure is $100 kPa$. The volume of the reactor is $500\\; dm^3$. The reactor is charged initially with $40 \\% A$, $30 \\% B$, and $30\\%$ inerts. The constant volume heat capacity of the mixture remains constant at $50 J/mol/K$, and the heat of reaction is constant at $-10 kJ/mol$. If the activation energy of the reaction $Ea=0$, calculate the time to reach $50\\%$ conversion, and the temperature and pressure at this conversion."
   ]
  },
  {
   "cell_type": "markdown",
   "metadata": {},
   "source": [
    "**Answer**."
   ]
  },
  {
   "cell_type": "markdown",
   "metadata": {},
   "source": [
    "|.| Initial   |Final|\n",
    "|---|------|------|\n",
    "|A   | $N_{A0}$|     $0.5 N_{A0}$|             \n",
    "|B   | $0.75 N_{A0}$ | $0.75 N_{A0}-0.5 N_{A0} $|\n",
    "|C   | 0         | $0.5 NA_0 $          |\n",
    "|I   | $0.75 N_{A0}$ | $0.75 N_{A0} $         |\n",
    "|---|------|------|\n",
    "|Total | $2.5 N_{A0}$ | $2 N_{A0}$            |\n",
    "\n",
    "\n",
    "Adiabatic operating line: \n",
    "\\begin{eqnarray}\n",
    "T=T_0+\\frac{(-\\Delta H_{rxn})X}{\\sum \\Theta_i Cp_i}\\\\\n",
    "T=400+\\frac{10,000}{50}X\\;\\;\n",
    "at\\;\\; X=0.5\\;\\;\\;\\;T=500K\n",
    "\\end{eqnarray}\n"
   ]
  },
  {
   "cell_type": "markdown",
   "metadata": {},
   "source": [
    "\\begin{eqnarray}\n",
    "N_{T,0}=\\frac{P_0V}{RT}=\\frac{100\\;\\; kPa*500 \\;\\;dm^3}{8.314 \\;\\;\\frac{Pa.m^3}{mol.K}*400\\;\\;K}=15.03\\;\\; moles\\\\\n",
    "\\frac{N_T}{N_{T,0}}=\\frac{2N_{A,0}}{2.5N_{A0}}=0.8\\\\\n",
    "P=\\frac{N_TRT}{V}=\\frac{15.03*0.8*8.314*500}{500/1000}=10^5Pa=100 kPa\n",
    "\\end{eqnarray}\n",
    "Mole balance: \\\n",
    "\\begin{eqnarray}\n",
    "N_{A,0}\\frac{dX}{dt}=kC_AC_B\\\n",
    "C_{A0}V\\frac{dX}{dt}=kC_{A0}^2(1-X)(\\Theta_B-X)\\\\\n",
    "\\int_0^{X=0.5}\\frac{dX}{(1-X)(\\Theta_B-X)}=\\frac{kC_{A0}}{V}\\int_0^t=\\frac{kC_{A0}t}{V}\\\\\n",
    "\\frac{kC_{A0}t}{V}=(\\frac{ln(1-X)}{(1-\\Theta_B)}-\\frac{ln(\\Theta_B-X)}{\\Theta_B(1-\\Theta_B)})_{0\\rightarrow X=0.5}\\\\\n",
    "C_{A0}=0.4C_{T0}=0.4\\frac{N_{T0}}{V}=\\frac{0.4*15.03}{500/1000}=3.37 \\;\\;s\n",
    "\\end{eqnarray}"
   ]
  },
  {
   "cell_type": "code",
   "execution_count": 34,
   "metadata": {},
   "outputs": [],
   "source": [
    "import numpy as np\n",
    "\n",
    "P0=100 #kPa\n",
    "V=500 #dm^3\n",
    "R=8.314 #Pa.m^3/(mol.K)\n",
    "T0=400 #K\n",
    "Hrx=10000\n",
    "CP=50\n",
    "x=0.5 #conversion\n",
    "\n",
    "NT0=P0*V/(R*T0)\n",
    "\n",
    "T=T0+Hrx*x/CP"
   ]
  },
  {
   "cell_type": "code",
   "execution_count": 35,
   "metadata": {},
   "outputs": [
    {
     "data": {
      "text/plain": [
       "400"
      ]
     },
     "execution_count": 35,
     "metadata": {},
     "output_type": "execute_result"
    }
   ],
   "source": [
    "NT0\n",
    "T0"
   ]
  },
  {
   "cell_type": "code",
   "execution_count": null,
   "metadata": {},
   "outputs": [],
   "source": []
  },
  {
   "cell_type": "markdown",
   "metadata": {},
   "source": [
    "**Q4**. A liquid phase elementary reaction $2A\\rightarrow B$ is carried out in a CSTR with pure $A$ in the feed. If the pre-exponential factor is $2*10^3$ L/mol/min, $Ea=40 kJ/mol$, $C_{A0}= 1 mol/L$, $F_{A0}=2 mol/min$, $C_P$ mix$=25 J/mol/K $(constant), $-\\Delta H_{rxn}=20 kJ/mol$ (constant), and the feed temperature is $325 K$, find the CSTR volume required to achieve 10\\% conversion in adiabatic operation. Also find the Damkohler number for this case."
   ]
  },
  {
   "cell_type": "markdown",
   "metadata": {},
   "source": [
    "**Answer**."
   ]
  },
  {
   "cell_type": "markdown",
   "metadata": {},
   "source": [
    "Adiabatic operating line, neglect $\\Delta C_p$\n",
    "\\begin{eqnarray}\n",
    "T=T_0+\\frac{(-\\Delta H_{rxn})X}{\\sum \\Theta_i C_{P1}}\\\\\n",
    "T=325+\\frac{20000X}{25}=325+800X\\\\\n",
    "at\\;\\;X=0.1\\;\\;\\;T=405\\;K\\;\\;\\;K(T)=2*10^3exp(\\frac{-E_a}{RT})=1.386*10^{-2}\\\\\n",
    "\\end{eqnarray}\n",
    "Molar Balance:\\\\\n",
    "\\begin{eqnarray}\n",
    "V=\\frac{f_{A0}X}{-r_A}=\\frac{2*0.1}{(1.39*10^{-2})C_{A0}^2(1-X)^2}\\\\\n",
    "V=\\frac{2*0.1}{(1.39*10^{-2})(1-0.1)^2}=17.81 \\;\\;L\n",
    "\\end{eqnarray}\n",
    "Damkohler Number:\\\\\n",
    "\\begin{eqnarray}\n",
    "Da=kC_{A0}\\tau= (1.39*10^{-2})*1*\\frac{V}{\\nu_0}=(1.39*10^{-2})*1*\\frac{V}{F_{A0}/C_{A0}}\\\\\n",
    "Da=\\frac{(1.39*10^{-2})*1*17.81}{2/1}=0.12\n",
    "\\end{eqnarray}"
   ]
  },
  {
   "cell_type": "markdown",
   "metadata": {},
   "source": [
    "**Q5**. A constant - pressure batch reactor was charges with an equimolar feed of $A$ and $B$. The reaction $A+2B\\rightarrow C$ proceeds at $900 K$ and $2 atm$. The rate law is $-r_A=k_AC_AC_B$ with $k_A=0.3 L mol^{-1}min^{-1}$. What time is necessary to reach $0.005 M$ concentration of the product?"
   ]
  },
  {
   "cell_type": "markdown",
   "metadata": {},
   "source": [
    "**Answer**. $B$ is the limiting reactant. Therefore, $\\frac{1}{2}A+B\\rightarrow \\frac{1}{2}C$.\n"
   ]
  },
  {
   "cell_type": "markdown",
   "metadata": {},
   "source": [
    "Stoichiometric Table \n",
    "\n",
    "|.| Initial   | Used| Final|\n",
    "|----|---|---|---------|\n",
    "|A | $N_{B0}$ | -0.5 $N_{B0} X_B$ | $N_{B0}(1-0.5X_B)$ |\n",
    "|B | $N_{B0}$ | $-N_{B0} X_B  $   | $N_{B0}(1- X_B)$   |                          \n",
    "|C | 0        | $0.5N_{B0}\\;X_B$  | $0.5N_{B0}\\;X_B$   |"
   ]
  },
  {
   "cell_type": "markdown",
   "metadata": {},
   "source": [
    "\\begin{eqnarray}\n",
    "\\epsilon_B=y_B.\\delta_B=0.5 ( \\frac{1}{2}-(1+\\frac{1}{2}))=-0.5\\\\\n",
    "V=V_0(1+\\epsilon X_B)\\frac{P_0}{P}\\frac{T}{T_0}=V_0(1-0.5X_B)\\\\\n",
    "C_A=\\frac{N_A}{V}=\\frac{N_{B0}(1-0.5X_B)}{V_0(1+\\epsilon X_B)\\frac{P_0}{P}\\frac{T}{T_0}}=C_{B0}\\frac{1-0.5X_B}{1-0.5X_B}\\\\\n",
    "C_B=\\frac{N_B}{V}=C_{B0}\\frac{1-X_B}{1-0.5X_B}\\\\\n",
    "C_C=\\frac{N_C}{V}=0.5C_{B0}\\frac{X_B}{1-0.5X_B}\\\\\n",
    "P=P_0,\\;\\;T=T_0 \\;\\;\\Rightarrow \\;\\;C_A=C_{B0}\\frac{1-0.5X_B}{1-0.5X_B}=C_{B0} \\\\ \\nonumber\n",
    "C_{B0}=\\frac{P_{B0}}{RT}=\\frac{y_{B0}P_{0}}{RT}=\\frac{0.5*2}{0.082*900}=0.01355\\;\\;M\\\\\n",
    "C_c=0.005=0.5*0.01355*\\frac{X_B}{1-0.5X_B}\\;\\;\\Rightarrow\\;\\; X_B=0.539\n",
    "\\end{eqnarray}\n",
    "Mole Balance:\\\\\n",
    "\\begin{eqnarray}\n",
    "N_{B0}\\frac{dX_B}{dt}=-r_B*V=k_BC_AC_BV=k_BC_{B0}^2\\frac{1-X_B}{1-0.5X_B}V_0(1-0.5X_B)\\\\\n",
    "\\frac{dX_B}{dt}=\\frac{C_{B0}^2}{C_{B0}}k_B(1-X_B)\\\\ \\nonumber\n",
    "\\int_0^{X_{B}} \\frac{dX_B}{1-X_B}=C_{B0}k_Bt\\\\ \\nonumber\n",
    "ln(\\frac{1}{1-X_B})=ln(\\frac{1}{1-0.539})=0.774\\;\\;and\\;\\; k_B=2k_A=0.6 \\frac{L}{mol.min}\\\\\\\n",
    "\\Rightarrow\\;\\; t=\\frac{0.774}{0.01355*0.6}=95\\;\\;min \\nonumber\n",
    "\\end{eqnarray}"
   ]
  },
  {
   "cell_type": "code",
   "execution_count": null,
   "metadata": {},
   "outputs": [],
   "source": []
  }
 ],
 "metadata": {
  "kernelspec": {
   "display_name": "Python 3",
   "language": "python",
   "name": "python3"
  },
  "language_info": {
   "codemirror_mode": {
    "name": "ipython",
    "version": 3
   },
   "file_extension": ".py",
   "mimetype": "text/x-python",
   "name": "python",
   "nbconvert_exporter": "python",
   "pygments_lexer": "ipython3",
   "version": "3.7.2"
  }
 },
 "nbformat": 4,
 "nbformat_minor": 2
}
