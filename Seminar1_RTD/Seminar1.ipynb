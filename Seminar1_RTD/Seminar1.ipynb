{
 "cells": [
  {
   "cell_type": "markdown",
   "metadata": {},
   "source": [
    "**Q1**. A pulse tracer input into a PFR showed the following outlet concentration:\n",
    "\n",
    "The experimental data between 2 and 4 min were fit into the line equation $C_{out} = -2t+17$, with $C_{out}$ in $[mM]*$ and $t$ in $[min]$.\n",
    "\n",
    "    a) Find the RTD function.\n",
    "    b) Find mean residence time.\n",
    "    c) Find variance.\n",
    "    d) What is the fraction of material that spends in the reactor 3 minutes and longer?\n",
    "* [M] means [mol/L] – it is a molar concentration in a fluid (gas or liquid)\n",
    "![Q1.png](Q1.png)"
   ]
  },
  {
   "cell_type": "markdown",
   "metadata": {},
   "source": [
    "$C(t) = $\n",
    "\n",
    "     0        0 < t  < 2\n",
    "     -2t+17   2=< t =< 4\n",
    "     0            t > 4"
   ]
  },
  {
   "cell_type": "code",
   "execution_count": 5,
   "metadata": {},
   "outputs": [
    {
     "data": {
      "text/plain": [
       "Text(0.5, 1.0, 'Exiting tracer concentration (pulse input)')"
      ]
     },
     "execution_count": 5,
     "metadata": {},
     "output_type": "execute_result"
    },
    {
     "data": {
      "image/png": "[encoded data removed]",
      "text/plain": [
       "<Figure size 432x288 with 1 Axes>"
      ]
     },
     "metadata": {
      "needs_background": "light"
     },
     "output_type": "display_data"
    }
   ],
   "source": [
    "import numpy as np\n",
    "t=np.linspace(0.,8.,100)\n",
    "C=np.zeros(len(t))\n",
    "\n",
    "for i in range(0,len(t)):\n",
    "    if 0<t[i]<2: \n",
    "        C[i]=0\n",
    "    elif 2<=t[i]<=4:\n",
    "        C[i]=-2*t[i]+17\n",
    "    else:\n",
    "        C[i]=0\n",
    "\n",
    "        \n",
    "import matplotlib.pyplot as plt\n",
    "plt.plot(t,C)\n",
    "plt.ylabel('Concentration, mM')\n",
    "plt.xlabel('Time, min')\n",
    "plt.title('Exiting tracer concentration (pulse input)')"
   ]
  },
  {
   "cell_type": "markdown",
   "metadata": {},
   "source": [
    "$\\int_0^\\infty C(t)dt=0+\\int_2^4(-2*t+17)dt+0=-2\\int_2^4tdt+17\\int_2^4dt=22.$"
   ]
  },
  {
   "cell_type": "code",
   "execution_count": 8,
   "metadata": {},
   "outputs": [
    {
     "name": "stdout",
     "output_type": "stream",
     "text": [
      "22.003\n"
     ]
    }
   ],
   "source": [
    "import numpy as np\n",
    "import scipy.integrate as integrate\n",
    "\n",
    "t=np.linspace(0.,8.,10000)\n",
    "C=np.zeros(len(t))\n",
    "\n",
    "for i in range(0,len(t)):\n",
    "    if 0<t[i]<2: \n",
    "        C[i]=0\n",
    "    elif 2<=t[i]<=4:\n",
    "        C[i]=-2*t[i]+17\n",
    "    else:\n",
    "        C[i]=0\n",
    "\n",
    "I = integrate.cumtrapz(C, t, initial=0) \n",
    "print (\"{0:.3f}\".format(I[len(I)-1]))\n"
   ]
  },
  {
   "cell_type": "markdown",
   "metadata": {},
   "source": [
    "**a**. Find an RTD function : $E(t)=\\frac{C(t)}{\\int_0^\\infty C(t)dt}$\n",
    "        \n",
    "$E(t) = $\n",
    "\n",
    "     0             0 < t  < 2\n",
    "     (-2t+17)/22   2=< t =< 4\n",
    "     0                 t > 4"
   ]
  },
  {
   "cell_type": "code",
   "execution_count": 9,
   "metadata": {},
   "outputs": [
    {
     "data": {
      "text/plain": [
       "[<matplotlib.lines.Line2D at 0x7fa0219c1f28>]"
      ]
     },
     "execution_count": 9,
     "metadata": {},
     "output_type": "execute_result"
    },
    {
     "data": {
      "image/png": "[encoded data removed]",
      "text/plain": [
       "<Figure size 432x288 with 1 Axes>"
      ]
     },
     "metadata": {
      "needs_background": "light"
     },
     "output_type": "display_data"
    }
   ],
   "source": [
    "import numpy as np\n",
    "import matplotlib.pyplot as plt\n",
    "E=np.zeros(len(t))\n",
    "\n",
    "for i in range(0,len(t)):\n",
    "\n",
    "     E[i]=C[i]/I[len(I)-1]\n",
    "E        \n",
    "plt.plot(t,E)"
   ]
  },
  {
   "cell_type": "markdown",
   "metadata": {},
   "source": [
    "**b**. Mean residence time\n",
    "\n",
    "$\\bar{t}=\\int_0^2 tE(t)dt+ \\int_2^4 tE(t)dt+ \\int_4^\\infty tE(t)dt=...$\n",
    "\n",
    "$...=\\int_0^\\infty tE(t)dt=0+\\int_2^4 tE(t)dt+0=...$\n",
    "\n",
    "$...=\\int_2^4(t\\frac{-2t+17}{22})dt=-\\frac{2}{22}(\\frac{4^3}{3}-\\frac{2^3}{3})+\\frac{17}{22}(\\frac{4^2}{2}-\\frac{2^2}{2})=...$\n",
    "\n",
    "$...=2.934  min$"
   ]
  },
  {
   "cell_type": "code",
   "execution_count": 10,
   "metadata": {},
   "outputs": [
    {
     "name": "stdout",
     "output_type": "stream",
     "text": [
      "mean residence time =2.939\n"
     ]
    }
   ],
   "source": [
    "t_r=np.zeros(len(t))\n",
    "for i in range(0,len(t)):\n",
    "    t_r[i]=t[i]*E[i]\n",
    "\n",
    "\n",
    "tr = integrate.trapz(t_r, t)\n",
    "\n",
    "print (\"mean residence time ={0:.3f}\".format(tr))"
   ]
  },
  {
   "cell_type": "markdown",
   "metadata": {},
   "source": [
    "**c**. Find the varience\n",
    "\n",
    "$\\sigma^2=\\int_0^\\infty t^2E(t)dt-\\bar{t}^2=\\int_2^4 t^2(\\frac{-2t+17}{22})dt-2.939^2=...$\n",
    "\n",
    "$...=\\frac{-1}{11}(\\frac{4^4}{4}-\\frac{2^4}{4})+\\frac{17*4^3}{22*3}-\\frac{17*2^3}{22*3}-2.939^2=...$\n",
    "\n",
    "$...=0.33 min^2$"
   ]
  },
  {
   "cell_type": "code",
   "execution_count": 14,
   "metadata": {},
   "outputs": [
    {
     "name": "stdout",
     "output_type": "stream",
     "text": [
      "Varience of residence times = 0.330 min^2\n"
     ]
    }
   ],
   "source": [
    "v=np.zeros(len(t))\n",
    "\n",
    "for i in range(0,len(t)):\n",
    "    v[i]=t[i]*t[i]*E[i]\n",
    "    \n",
    "\n",
    "Va = integrate.trapz(v, t)\n",
    "\n",
    "Var=Va-(2.9*2.9)\n",
    "Var1=Va-(tr*tr)\n",
    "print (\"Varience of residence times = {0:.3f}\".format(Var1), 'min^2')#, \"vs {0:.3f}\".format(Var), 'min^2')"
   ]
  },
  {
   "cell_type": "markdown",
   "metadata": {},
   "source": [
    "**d**. Fraction of the material spends in the reactor longer than 3 min."
   ]
  },
  {
   "cell_type": "markdown",
   "metadata": {},
   "source": [
    "We use cummulative distribution function, $F(t)=\\int_0^t E(t) dt$ and then we find $1-F(t)$?"
   ]
  },
  {
   "cell_type": "markdown",
   "metadata": {},
   "source": [
    "$F(3)=\\int_0^3 t dt+ \\frac{17}{22}\\int_2^3 dt=\\frac{-2}{22}(\\frac{3^2}{2}-\\frac{2^2}{2})+\\frac{17}{22}(3-2)=0.545$\n",
    "\n",
    "$1-F(3)=0.455$"
   ]
  },
  {
   "cell_type": "code",
   "execution_count": 15,
   "metadata": {},
   "outputs": [
    {
     "name": "stdout",
     "output_type": "stream",
     "text": [
      "Fraction spends in the reactor less than 3 min = 0.545\n",
      "Fraction spends in the reactor greater than 3 min = 0.455\n"
     ]
    },
    {
     "data": {
      "image/png": "[encoded data removed]",
      "text/plain": [
       "<Figure size 432x288 with 1 Axes>"
      ]
     },
     "metadata": {
      "needs_background": "light"
     },
     "output_type": "display_data"
    }
   ],
   "source": [
    "y=np.zeros(len(t))\n",
    "\n",
    "\n",
    "for i in range (2,len(t)+1):\n",
    "        y[i-1]=integrate.trapz(E[0:i],t[0:i])\n",
    "    \n",
    "k=0\n",
    "\n",
    "plt.plot(t,y)\n",
    "plt.ylabel(\"F(t)\")\n",
    "plt.xlabel(\"time, s\")\n",
    "\n",
    "for i in range(0,len(t)):\n",
    "    if 2.99 < t[i] < 3.00:\n",
    "        k=i\n",
    "\n",
    "#print(k)\n",
    "    \n",
    "print (\"Fraction spends in the reactor less than 3 min = {0:.3f}\".format(y[k-1])) \n",
    "print (\"Fraction spends in the reactor greater than 3 min = {0:.3f}\".format(1-y[k-1]))"
   ]
  },
  {
   "cell_type": "markdown",
   "metadata": {},
   "source": [
    "**Q2**. Residence time distribution in real reactors and its characteristics. *From Chapter 13, 4th Ed. Fogler*\n",
    "\n",
    "\n",
    "The following data were obtained from a pulse tracer test to a real flow reactor:"
   ]
  },
  {
   "cell_type": "markdown",
   "metadata": {},
   "source": [
    "|t(s)|0|5|10|15|20|25|30|35|\n",
    "|----|--|--|---|--|--|--|--|--|\n",
    "|C(mg/dm^3)|0|0|0|5|10|5|0|0|"
   ]
  },
  {
   "cell_type": "markdown",
   "metadata": {},
   "source": [
    "    a) Plot RTD function\n",
    "    b) Find the fraction of material that spends between 15 and 20 seconds in the reactor\n",
    "    c) Plot cumulative distribution function F(t)\n",
    "    d) What fraction of the material spends 25 seconds or less in the reactor?\n",
    "    e) Find mean residence time."
   ]
  },
  {
   "cell_type": "markdown",
   "metadata": {},
   "source": [
    "**a**. RTD function is $E(t)=\\frac{C(t)}{\\int_0^\\infty C(t) dt}$"
   ]
  },
  {
   "cell_type": "markdown",
   "metadata": {},
   "source": [
    "To find the total concentration in the denominator, we plot $C(t)$ vs. time and evaluate the area:\n",
    "![Q2.png](Q2.png)"
   ]
  },
  {
   "cell_type": "markdown",
   "metadata": {},
   "source": [
    "Area = 0.5* (20-10) s* 10 $\\frac{mg}{dm^3}+0.5*(30-20) s * 10 \\frac{mg}{dm^3}=...$\n",
    "\n",
    "$...= 100 \\frac{mg.s}{dm^3}$"
   ]
  },
  {
   "cell_type": "code",
   "execution_count": 18,
   "metadata": {},
   "outputs": [
    {
     "data": {
      "text/plain": [
       "Text(0.5, 0, 'Time, s')"
      ]
     },
     "execution_count": 18,
     "metadata": {},
     "output_type": "execute_result"
    },
    {
     "data": {
      "image/png": "[encoded data removed]",
      "text/plain": [
       "<Figure size 432x288 with 1 Axes>"
      ]
     },
     "metadata": {
      "needs_background": "light"
     },
     "output_type": "display_data"
    }
   ],
   "source": [
    "t2=np.linspace(0.,35,1000)\n",
    "C2=np.zeros(len(t2))\n",
    "\n",
    "for i in range(0,len(t2)):\n",
    "    if 0<t2[i]<10: \n",
    "        C2[i]=0\n",
    "    elif 10<=t2[i]<20:\n",
    "        C2[i]=t2[i]-10\n",
    "    elif 20<=t2[i]<=30:\n",
    "        C2[i]=30-t2[i]\n",
    "    else:\n",
    "        C2[i]=0\n",
    "\n",
    "import matplotlib.pyplot as plt\n",
    "plt.plot(t2,C2)\n",
    "plt.ylabel('Concentration, mM')\n",
    "plt.xlabel('Time, s')"
   ]
  },
  {
   "cell_type": "code",
   "execution_count": 19,
   "metadata": {},
   "outputs": [
    {
     "name": "stdout",
     "output_type": "stream",
     "text": [
      "The total concentration in denominator =22.003 mg.s/dm^3\n"
     ]
    }
   ],
   "source": [
    "I2 = integrate.cumtrapz(C2, t2, initial=0) \n",
    "print (\"The total concentration in denominator ={0:.3f}\".format(I[len(I)-1]), \"mg.s/dm^3\")"
   ]
  },
  {
   "cell_type": "markdown",
   "metadata": {},
   "source": [
    "RTD function is  $𝐸(𝑡)=\\frac{𝐶(𝑡)}{\\int_0^\\infty 𝐶(𝑡)}𝑑𝑡$\n",
    "\n",
    "$𝐸(𝑡)=\\frac{𝐶(𝑡)}{100}  \\frac{dm^3}{mg}$\n",
    "\n",
    "|t(s)|0|5|10|15|20|25|30|35|\n",
    "|----|--|--|---|--|--|--|--|--|\n",
    "|C(mg/dm^3)|0|0|0|5|10|5|0|0|\n",
    "|E(dm^3/mg)|0|0|0|0.05|0.1|0.05|0|0|"
   ]
  },
  {
   "cell_type": "code",
   "execution_count": 20,
   "metadata": {},
   "outputs": [
    {
     "data": {
      "text/plain": [
       "Text(0.5, 0, 'Time, s')"
      ]
     },
     "execution_count": 20,
     "metadata": {},
     "output_type": "execute_result"
    },
    {
     "data": {
      "image/png": "[encoded data removed]",
      "text/plain": [
       "<Figure size 432x288 with 1 Axes>"
      ]
     },
     "metadata": {
      "needs_background": "light"
     },
     "output_type": "display_data"
    }
   ],
   "source": [
    "import numpy as np\n",
    "import matplotlib.pyplot as plt\n",
    "E2=np.zeros(len(t2))\n",
    "\n",
    "for i in range(0,len(t2)):\n",
    "\n",
    "     E2[i]=C2[i]/I2[len(I2)-1]\n",
    "E2        \n",
    "plt.plot(t2,E2)\n",
    "plt.ylabel('E(t), 1/s')\n",
    "plt.xlabel('Time, s')"
   ]
  },
  {
   "cell_type": "markdown",
   "metadata": {},
   "source": [
    "**b**. Fraction of material spending between 15 and 20 seconds in the reactor = $\\int_{15}^{20} E(t) dt$\n",
    "\n",
    "$\\int_{15}^{20} E(t) dt = (20-15) s*(0.05) s^{-1} + 0.5*(20-15)s*(0.1-0.05) s^{-1}=...$\n",
    "\n",
    "$...=0.25+0.125 = 0.375$"
   ]
  },
  {
   "cell_type": "code",
   "execution_count": 26,
   "metadata": {},
   "outputs": [
    {
     "name": "stdout",
     "output_type": "stream",
     "text": [
      "37.051 % of material spends between 15-20 seconds in the reactor\n"
     ]
    }
   ],
   "source": [
    "y2=np.zeros(len(t2))\n",
    "\n",
    "\n",
    "for i in range (2,len(t2)+1):\n",
    "        y2[i-1]=integrate.trapz(E2[0:i],t2[0:i])\n",
    "    \n",
    "k2=0\n",
    "k22=0\n",
    "\n",
    "for i in range(0,len(t2)):\n",
    "    if 14.84 < t2[i] < 15.00:\n",
    "        k2=i\n",
    "    if 19.79 < t2[i] < 20.00:\n",
    "        k22=i\n",
    "    \n",
    "print (\"{0:.3f}\".format((y2[k22-1]-y2[k2-1])*100), \"% of material spends between 15-20 seconds in the reactor\")\n"
   ]
  },
  {
   "cell_type": "markdown",
   "metadata": {},
   "source": [
    "**c**. Plot cumulative distribution function. \n",
    "\n",
    "To find F(t) for each point we need to know area under E(0) from time 0 up to time t.\n",
    "\n",
    "Based on analytical calcualtion:\n",
    "\n",
    "F(5)=0\n",
    "\n",
    "F(10)=0\n",
    "\n",
    "F(15)= $\\int_0^{15} E(t) dt= \\int_{10}^{15} E(t) dt = 0.5*(0.05 min)*(15-10) = 0.125$\n",
    "\n",
    "F(20)= $\\int_0^{20} E(t) dt= \\int_{10}^{20} E(t) dt = 0.5*(0.1 min)*(20-10) = 0.5$\n",
    "\n",
    "F(25)= $\\int_0^{25} E(t) dt= \\int_{10}^{25} E(t) dt = 0.5 + (0.05 min)*(25-20) + 0.5*0.05*(25-20) = 0.875$\n",
    "\n",
    "F(25)= $\\int_0^{30} E(t) dt= \\int_{10}^{30} E(t) dt = 1$\n",
    "\n",
    "\n",
    "\n",
    "|t(s)|0|5|10|15|20|25|30|35|\n",
    "|----|--|--|---|--|--|--|--|--|\n",
    "|C(t)(mg/dm^3)|0|0|0|5|10|5|0|0|\n",
    "|E(t)(dm^3/mg)|0|0|0|0.05|0.1|0.05|0|0|\n",
    "|F(t)|0|0|0|0.125|0.5|0.875|1|1|"
   ]
  },
  {
   "cell_type": "code",
   "execution_count": 25,
   "metadata": {},
   "outputs": [
    {
     "name": "stdout",
     "output_type": "stream",
     "text": [
      "Fraction spends in the reactor:\n",
      "        less than 10 s =  0\n",
      "        less than 15 s = 0.123\n",
      "        less than 20 s = 0.497\n",
      "        less than 25 s = 0.874\n",
      "        less than 30 s = 1.000\n",
      "        less than 35 s = 1.000\n"
     ]
    }
   ],
   "source": [
    "k3=0\n",
    "k4=0\n",
    "k5=0\n",
    "k6=0\n",
    "\n",
    "for i in range(0,len(t2)):\n",
    "    if 14.99 < t2[i] < 15.03:\n",
    "        k3=i\n",
    "    if 19.99 < t2[i] < 20.02:\n",
    "        k4=i\n",
    "    if 24.99 < t2[i] < 25.02:\n",
    "        k5=i\n",
    "    if 29.99 < t2[i] < 30.02:\n",
    "        k6=i\n",
    "        \n",
    "print (\"Fraction spends in the reactor:\")\n",
    "print (\"        less than 10 s = \", 0)\n",
    "print (\"        less than 15 s = {0:.3f}\".format(y2[k3-1]))\n",
    "print (\"        less than 20 s = {0:.3f}\".format(y2[k4-1]))\n",
    "print (\"        less than 25 s = {0:.3f}\".format(y2[k5-1]))\n",
    "print (\"        less than 30 s = {0:.3f}\".format(y2[k6-1]))\n",
    "print (\"        less than 35 s = {0:.3f}\".format(y2[len(y2)-1]))"
   ]
  },
  {
   "cell_type": "code",
   "execution_count": 23,
   "metadata": {},
   "outputs": [
    {
     "data": {
      "text/plain": [
       "Text(0.5, 1.0, 'Cumulative distribution function')"
      ]
     },
     "execution_count": 23,
     "metadata": {},
     "output_type": "execute_result"
    },
    {
     "data": {
      "image/png": "[encoded data removed]",
      "text/plain": [
       "<Figure size 432x288 with 1 Axes>"
      ]
     },
     "metadata": {
      "needs_background": "light"
     },
     "output_type": "display_data"
    }
   ],
   "source": [
    "plt.plot(t2,y2)\n",
    "plt.ylabel('F(t)')\n",
    "plt.xlabel('Time, s')\n",
    "plt.title('Cumulative distribution function')"
   ]
  },
  {
   "cell_type": "markdown",
   "metadata": {},
   "source": [
    "**d**. What fraction of material spends 25 seconds or less in the reactor."
   ]
  },
  {
   "cell_type": "code",
   "execution_count": 27,
   "metadata": {},
   "outputs": [
    {
     "name": "stdout",
     "output_type": "stream",
     "text": [
      " -----------------------------------\n",
      "87.4 % of material spends 25 seconds or less in the reactor\n"
     ]
    }
   ],
   "source": [
    "print (\" -----------------------------------\")\n",
    "print (\"{0:.1f}\".format(y2[k5-1]*100), \"% of material spends 25 seconds or less in the reactor\")"
   ]
  },
  {
   "cell_type": "markdown",
   "metadata": {},
   "source": [
    "**e**. mean residence time. $\\bar{t}=\\int_0^\\infty t. E(t) dt$"
   ]
  },
  {
   "cell_type": "code",
   "execution_count": null,
   "metadata": {},
   "outputs": [],
   "source": [
    "t_r2=np.zeros(len(t2))\n",
    "for i in range(0,len(t2)):\n",
    "    t_r2[i]=t2[i]*E2[i]\n",
    "\n",
    "    \n",
    "tr2 = integrate.trapz(t_r2, t2)\n",
    "\n",
    "\n",
    "print (\"mean residence time ={0:.1f}\".format(tr2), 's')\n",
    "plt.plot(t2,t_r2)\n",
    "plt.ylabel('t*E(t)')\n",
    "plt.xlabel('time, s')\n",
    "\n",
    "k33=0\n",
    "k44=0\n",
    "k55=0\n",
    "k66=0\n",
    "\n",
    "for i in range(0,len(t2)):\n",
    "    if 14.99 < t2[i] < 15.03:\n",
    "        k33=i\n",
    "    if 19.99 < t2[i] < 20.02:\n",
    "        k44=i\n",
    "    if 24.99 < t2[i] < 25.02:\n",
    "        k55=i\n",
    "    if 29.99 < t2[i] < 30.02:\n",
    "        k66=i\n",
    "        \n",
    "print (\"-----------------------------------\")    "
   ]
  },
  {
   "cell_type": "code",
   "execution_count": null,
   "metadata": {},
   "outputs": [],
   "source": []
  }
 ],
 "metadata": {
  "kernelspec": {
   "display_name": "Python 3",
   "language": "python",
   "name": "python3"
  },
  "language_info": {
   "codemirror_mode": {
    "name": "ipython",
    "version": 3
   },
   "file_extension": ".py",
   "mimetype": "text/x-python",
   "name": "python",
   "nbconvert_exporter": "python",
   "pygments_lexer": "ipython3",
   "version": "3.7.3"
  }
 },
 "nbformat": 4,
 "nbformat_minor": 2
}
