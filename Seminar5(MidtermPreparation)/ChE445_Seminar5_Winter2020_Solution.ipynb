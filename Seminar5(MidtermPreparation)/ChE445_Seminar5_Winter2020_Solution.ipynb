{
 "cells": [
  {
   "cell_type": "markdown",
   "metadata": {},
   "source": [
    "**Q 1. Again review of 345: conversion in an ideal PFR. 20 pts**\n",
    "\n",
    "(adapted from Fogler’s 4th Ed. Elements of Chemical Reaction engineering).\n",
    "$2NOCl \\rightarrow 2NO + Cl_2$\n",
    "The second-order gas-phase reaction is carried out in a steady-state isothermal isobaric ideal PFR. Pure\n",
    "NOCl is fed with an inlet flow rate of $2.26*10^{-5} \\frac{mol}{s}$ and initial concentration of $0.283 \\frac{mol}{L}$. The rate constant with respect to A is $267 L/(mol.s)$.\n",
    "Find reactor volume to decrease the exit molar flow rate of $NOCl$ to $0.339×10^{-5} \\frac{mol}{s}$."
   ]
  },
  {
   "cell_type": "markdown",
   "metadata": {},
   "source": [
    "$2NOCl \\rightarrow 2NO + Cl_2$\n",
    "\n",
    "$A\\rightarrow B+\\frac{1}{2} C$\n",
    "\n",
    "Stoichiometry Table where $X=X_A=\\frac{F_{A0}-F_A}{f_{A0}}=\\frac{2.26-0.339}{2.26}=0.85$\n",
    "\n",
    "|Species| Initial  |Change         | Final         |\n",
    "|:-----:|---------:|--------------:|--------------:|\n",
    "|A      | $F_{A0}$ | $-F_{A0}X$    |$F_{A}=F_{A0}(1-X)$ |\n",
    "|B      | 0        |$F_{A0}X$      |$F_{B}=F_{A0}X$     |             \n",
    "|C      | 0        |$0.5F_{A0}X$   |$F_{C}=0.5F_{A0}X$    |\n",
    "|Total  |$F_{T0}=F_{A0}$ | $\\frac{1}{2}F_{A0}X$| $F_{A0}(1+\\frac{1}{2}X)$|\n",
    "\n",
    "\n",
    "At $P,T=cte$, $Q=Q_0\\frac{F_T}{F_{T0}}=Q_0(1+\\frac{1}{2}X)$\n",
    "\n",
    "rate law for 2nd order reaction:\n",
    "\n",
    "$-r_A=k_AC_A^2$\n",
    "\n",
    "$C_A=\\frac{F_A}{Q}=\\frac{F_{A0}(1-X)}{Q_0(1+\\frac{1}{2}X)}=C_{A0}\\frac{1-X}{1+\\frac{1}{2}X}$\n",
    "\n",
    "Therefore:\n",
    "\n",
    "$-r_A=k_A(C_{A0}\\frac{1-X}{1+\\frac{1}{2}X})^2$"
   ]
  },
  {
   "cell_type": "markdown",
   "metadata": {},
   "source": [
    "Mole Balance for an ideal PFR:\n",
    "\n",
    "$V=F_{A0}\\in_0^X\\frac{dX}{-r_A}$\n",
    "\n",
    "$V=F_{A0}\\int_0^X \\frac{(1+0.5X)^2}{kC_{A0}^2(1-X)^2} dX$\n",
    "\n",
    "# Integration rule: $\\int_0^X \\frac{(1+\\epsilon X)^2 \\;dX}{(1-X)^2}=2 \\epsilon (1+\\epsilon) ln(1-x)+\\epsilon^2X+\\frac{(1+\\epsilon)^2X}{1-X}$\n",
    "\n",
    "$V=\\frac{2.26*10^{-5}}{267*0.283^2}(2*0.5*1.5*ln(1-0.85)+0.5^2*0.85+\\frac{(1.5)^2*0.85}{1-0.85})=1.07*10^{-5}\\;L$ (microreactor)"
   ]
  },
  {
   "cell_type": "markdown",
   "metadata": {},
   "source": [
    "## DEPARTMENT OF CHEMICAL & MATERIALS ENGINEERING\n",
    "\n",
    "### CH E 445, Midterm Exam Fall 2018. 45 minutes. Weight: 24/100. "
   ]
  },
  {
   "cell_type": "markdown",
   "metadata": {},
   "source": [
    "**Q1**. A gas-phase irreversible reaction $2A+B\\rightarrow C$ occurs in an ideal isobaric isothermal PFR and $80\\%$\n",
    "conversion of $A$ is reached. The feed contains $1 \\frac{mol}{m^3}$ of $A$, $5\\frac{mol}{m^3}$ of $B$ and $4\\frac{mol}{m^3}$ of inerts.\n",
    "The reaction is $2^{nd}$ order to $A$ and $0^{th}$ order to $B$. Rate constant is $3 \\frac{m^3}{mol·s}$.\n",
    "\n",
    "**1a.** Calculate mean residence time.\n",
    "\n",
    "**1b.** Is the space time higher or lower that the mean residence time? Explain."
   ]
  },
  {
   "cell_type": "markdown",
   "metadata": {},
   "source": [
    "Limiting reactant is $A$ so:\n",
    "\n",
    "$A+\\frac{1}{2}B\\rightarrow \\frac{1}{2}C$\n",
    "\n",
    "Stoichiometry Table where $X=X_A$\n",
    "\n",
    "|Species| Initial  |Change         | Final         |\n",
    "|:-----:|---------:|--------------:|--------------:|\n",
    "|A      | $F_{A0}$ | $-F_{A0}X$    |$F_{A}=F_{A0}(1-X)$ |\n",
    "|B      | $5F_{A0}$|$-0.5F_{A0}X$  |$F_{B}=F_{A0}(5-0.5X)$     |             \n",
    "|C      | 0        |$0.5F_{A0}X$   |$F_{C}=0.5F_{A0}X$    |\n",
    "|I      | $4F_{A0}$|0              |$4F_{A0}X$    |\n",
    "|Total  |$F_{T0}=10F_{A0}$ | $-F_{A0}X$| $F_{A0}(10-X)$|\n",
    "\n",
    "\n",
    "$\\frac{F_T}{F_{T0}}=\\frac{10-X}{10}=1-0.1X$\n",
    "\n",
    "At $P,T=cte$:$\\frac{Q}{Q_{0}}=1-0.1X$\n",
    "\n",
    "At $P,T=cte$: $\\bar{t}=C_{A0}\\int_0^X \\frac{dX}{-r_A(1+\\epsilon X)}$\n",
    "\n",
    "Rate law: $-r_a=kC_A^2C_B^0=kC_A^2=k\\frac{F_A^2}{Q^2}=k\\frac{F_{A0}^2(1-X)^2}{Q_{0}^2(1-0.1X)^2}=k\\frac{C_{A0}^2(1-X)^2}{(1-0.1X)^2}$\n",
    "\n",
    "$\\bar{t}=\\frac{C_{A0}}{k.C_{A0}^2}\\int_0^X\\frac{(1-0.1X)^2}{(1-X)^2(1-0.1X)}dX$\n",
    "\n",
    "$\\bar{t}=\\frac{1}{kC_{A0}}\\int_0^X\\frac{1-0.1X}{(1-X)^2}dX$\n",
    "\n",
    "$\\bar{t}=\\frac{1}{3*1}\\frac{0.9}{1-0.8}+0.1*ln\\frac{1}{1-0.8}=\\frac{3.76}{3}=1.25\\;s$"
   ]
  },
  {
   "cell_type": "markdown",
   "metadata": {},
   "source": [
    "$\\tau=V/Q_0=$\n",
    "\n",
    "since $Q<Q_0$, ($Q=Q_0(1-0.1X))$ then $\\tau<\\bar{t}$"
   ]
  },
  {
   "cell_type": "markdown",
   "metadata": {},
   "source": [
    "**Q2. 25/100 pts**\n",
    "\n",
    "What fraction of the material spends between 2 and 8 minutes in a liquid-phase ideal CSTR with space\n",
    "time of 4 minutes?"
   ]
  },
  {
   "cell_type": "markdown",
   "metadata": {},
   "source": [
    "Cumulative function for an ideal CSTR:\n",
    "\n",
    "$F=1-e^{-t/\\tau}$\n",
    "\n",
    "up to 8 min: $F=1-e^{-8/4}=0.865$\n",
    "\n",
    "up to 2 min: $F=1-e^{-2/4}=0.393$\n",
    "\n",
    "Between: F(10)-F(2)= 0.472\n",
    "\n"
   ]
  },
  {
   "cell_type": "markdown",
   "metadata": {},
   "source": [
    "**Q3. 25/100 pts**\n",
    "\n",
    "Predict conversion using segregation model for a zero-order liquid phase reaction $A \\rightarrow B$ with rate constant of $5 mol/(L·min)$, $C_{A0}$ of $10 mol/L$ using the given cumulative distribution function:\n",
    "\n",
    "![S5Q3.png](S5Q3.png)"
   ]
  },
  {
   "cell_type": "markdown",
   "metadata": {},
   "source": [
    "**Answer**\n",
    "\n",
    "$\\bar{X}=\\int_0^\\infty X(t) E(t) dt$\n",
    "\n",
    "$-r_A=k$\n",
    "\n",
    "$X$ from CVBR: $\\frac{dX}{dt}=\\frac{-r_A}{C_{A0}}=\\frac{k}{C_{A0}}$\n",
    "\n",
    "$\\int_0^X dX=\\frac{k}{C_{A0}}\\int_0^t dt$\n",
    "\n",
    "$X=\\frac{k}{C_{A0}}t$"
   ]
  },
  {
   "cell_type": "markdown",
   "metadata": {},
   "source": [
    "From the plot: $F(t)=0.25t\\;\\;\\;0\\leq t \\leq 4$ else$=0$.\n",
    "\n",
    "$F(t)=\\frac{dF(t)}{dt}$\n",
    "\n",
    "$E(t)=0.25\\;\\;\\;0\\leq t\\leq4$ else$=0$.\n",
    "\n",
    "$\\bar{X}=\\int_0^4 \\frac{0.25k}{C_{A0}}t dt=\\frac{0.25*5}{10}\\frac{1}{2}t^2 [0 \\rightarrow 4]=1$\n"
   ]
  },
  {
   "cell_type": "markdown",
   "metadata": {},
   "source": [
    "**Q 4. 25/100 pts**\n",
    "\n",
    "A pulse of tracer is injected in a liquid flow which is equally divided between two ideal PFRs:\n",
    "\n",
    "**4a.** Plot the tracer concentration at the point of detection as a function of time.\n",
    "\n",
    "**4b.** Plot cumulative distribution function at the point of detection as a function of time.\n",
    "For both graphs in 4a and 4b, clearly indicate relevant numerical values and how they were calculated.\n",
    "\n",
    "![S5Q4.png](S5Q4.png)"
   ]
  },
  {
   "cell_type": "markdown",
   "metadata": {},
   "source": [
    "**Answer**\n",
    "\n",
    "Ideal PFR\n",
    "\n",
    "2L PFR: $\\tau=\\frac{V}{Q_0}=\\frac{2 L}{5 L/s}=0.4\\;s$\n",
    "\n",
    "4L PFR: $\\tau=\\frac{V}{Q_0}=\\frac{4}{5}=0.8\\;s$"
   ]
  },
  {
   "cell_type": "markdown",
   "metadata": {},
   "source": [
    "b) since flow is divided in $50\\%$ half of the tracer will leave at $0.4s$ and the rest at $0.8s$.\n",
    "\n",
    "![S5Q4-2.png](S5Q4-2.png)"
   ]
  },
  {
   "cell_type": "markdown",
   "metadata": {},
   "source": [
    "### CH E 445, Midterm Exam Fall 2019. 45 minutes."
   ]
  },
  {
   "cell_type": "markdown",
   "metadata": {},
   "source": [
    "**Q1. 25/100 pts**.\n",
    "\n",
    "A gas-phase 1st-order irreversible reaction $A \\rightarrow 2B$ occurs in an ideal isobaric isothermal CSTR at $5 s$\n",
    "space-time. $80\\%$ conversion of A is reached. The feed contains $7 mol/m3$ of $A$, $1 mol/m3$ of $B$ and $2\n",
    "mol/m3$ of inerts. \n",
    "\n",
    "Calculate mean residence time in this ideal reactor."
   ]
  },
  {
   "cell_type": "markdown",
   "metadata": {},
   "source": [
    "**Answer**.\n",
    "\n",
    "Stoichiometry Table where $X=X_A$\n",
    "\n",
    "|Species| Initial  |Change         | Final         |\n",
    "|:-----:|---------:|--------------:|--------------:|\n",
    "|A      | $F_{A0}$ | $-F_{A0}X$    |$F_{A}=F_{A0}(1-X)$ |\n",
    "|B      | $\\frac{1}{7}F_{A0}$|$2F_{A0}X$  |$F_{B}=F_{A0}(\\frac{1}{7}+2X)$     |             \n",
    "|I      | $\\frac{2}{7}F_{A0}$|0              |$\\frac{2}{7}F_{A0}X$    |\n",
    "|Total  |$F_{T0}=\\frac{10}{7}F_{A0}$ | $F_{A0}X$| $F_{A0}(\\frac{10}{7}+X)$|\n",
    "\n",
    "\n",
    "$Q=Q_0\\frac{F_T}{F_{T0}}=\\frac{Q_0 (\\frac{10}{7}+X)}{\\frac{10}{7}}$\n",
    "\n",
    "$\\bar{t}=\\int_0^V \\frac{dV}{Q}=\\frac{V}{Q_{exit}}=\\frac{V}{Q_0}\\frac{10/7}{10/7+X}=3.205\\;s$"
   ]
  },
  {
   "cell_type": "markdown",
   "metadata": {},
   "source": [
    "**Q2. 25/100 pts**\n",
    "\n",
    "A pulse tracer input was used to determined RTD function in a constant-density flow reactor (see the Figure). All tracer has left by 10 minutes. \n",
    "\n",
    "2a). Calculate the maximum value of the E(t) function. **10 pts**\n",
    "\n",
    "2b). What is the maximum achieved value of F(t) function? Explain. **5 pts**\n",
    "\n",
    "2c). Sketch the exit tracer concentration vs. time if a step tracer input is performed on the same reactor at the same volumetric flow rate. Mark all known numerical values. **10 pts**\n",
    "\n",
    "![S5Q119.png](S5Q119.png)"
   ]
  },
  {
   "cell_type": "markdown",
   "metadata": {},
   "source": [
    "**Answer**\n",
    "\n",
    "**2a)**. $\\int_0^\\infty E(t) dt=1$ so area under the graph$=1$\n",
    "\n",
    "$1=\\frac{1}{2}X(10-5)\n",
    "\n",
    "$X=0.4$\n",
    "\n",
    "**2b)**. Since all tracer has left the reactor, $F(t)_{max}=1$\n",
    "\n",
    "**2c)**. Step tracer input:\n",
    "\n",
    "The $F(t)$ plot would be as :\n",
    "\n",
    "![S5Q219.png](S5Q219.png)\n",
    "\n",
    "no tracer upto 5 min. The tracer reaches ts maxium value by $10min$"
   ]
  },
  {
   "cell_type": "markdown",
   "metadata": {},
   "source": [
    "**Q3. 20/100 pts**\n",
    "A radioactive waste with half-life time of 100 years was dumped into a river. The flowing waters ($200×10^6 m3/day$) are monitored downstream for this particular radioisotope. The data are shown in the Figure below:\n",
    "\n",
    "![S5Q319.png](S5Q319.png)\n",
    "\n",
    "3a). How many radioactive units of this isotope were dumped? 5 pts\n",
    "\n",
    "3b). What is the volume of the river between the monitoring point and the point of introduction of the waste? 10 pts\n",
    "\n",
    "3c). Why is the half-life time of the isotope is mentioned? (1-sentence answer). 5 pts"
   ]
  },
  {
   "cell_type": "markdown",
   "metadata": {},
   "source": [
    "**Answer**\n",
    "\n",
    "**3a)** $\\int_0^\\infty C(t) dt= Area\\;under\\;the\\;triangle=30*10^{-6}\\;\\frac{u.r.}{m^3}days$\n",
    "\n",
    "$30*10^{-6}*Q=30*10^{-6}\\frac{u.r.}{m^3}days*200*10^6 \\frac{m^3}{day}=6000 \\;u.r.$\n",
    "\n",
    "**3b)** $\\tau=\\frac{V}{Q_0}$ here $\\tau=\\bar{t}=50\\;days$\n",
    "\n",
    "$V=50*200*10^6=10^{10}\\;m^3$\n",
    "\n",
    "**3c)** It does not convert within this time of $80$days, so it can be considered as a non-reactive tracer."
   ]
  },
  {
   "cell_type": "markdown",
   "metadata": {},
   "source": [
    "**Q4. 30/100 pts**\n",
    "\n",
    "Based on RTD measurements, a real flow reactor can be modelled as a combination of one ideal PFR ($8 L$) followed by one ideal CSTR ($4 L$) in series. The volumetric flow rate of the liquid feed is $2 L/s$.\n",
    "\n",
    "**4a)**. Sketch the RTD function of the real reactor. Show and justify all known numerical values on both axes. **15 pts**\n",
    "\n",
    "**4b)**. Find mean residence time in the real reactor. **5 pts**\n",
    "\n",
    "**4c)**. Imagine now if 25% of the PFR volume is “dead zones”. Sketch the RTD function of the real reactor.\n",
    "Show and justify all known numerical values on both axes. **10 pts**"
   ]
  },
  {
   "cell_type": "markdown",
   "metadata": {},
   "source": [
    "**Answer**\n",
    "\n",
    "**4a)** $\\tau_{PFR}=\\frac{V}{Q_0}=\\frac{8}{2}=4\\;s$\n",
    "\n",
    "$\\tau_{CSTR}=\\frac{4}{2}=2\\;s$\n",
    "\n",
    "PFR only delays the ideal exit from CSTR.\n",
    "\n",
    "**4b)** $\\bar{t}=\\tau=4+2=6\\;s$\n",
    "\n",
    "**4c)** For PFR $\\tau_{new,PFR}=\\frac{0.75*8L}{2L/s}=3\\;s$\n",
    "$\\tau_{CSTR}$ the same."
   ]
  },
  {
   "cell_type": "markdown",
   "metadata": {},
   "source": [
    "![S5Q419.png](S5Q419.png)"
   ]
  },
  {
   "cell_type": "code",
   "execution_count": null,
   "metadata": {},
   "outputs": [],
   "source": []
  }
 ],
 "metadata": {
  "kernelspec": {
   "display_name": "Python 3",
   "language": "python",
   "name": "python3"
  },
  "language_info": {
   "codemirror_mode": {
    "name": "ipython",
    "version": 3
   },
   "file_extension": ".py",
   "mimetype": "text/x-python",
   "name": "python",
   "nbconvert_exporter": "python",
   "pygments_lexer": "ipython3",
   "version": "3.7.3"
  }
 },
 "nbformat": 4,
 "nbformat_minor": 2
}
