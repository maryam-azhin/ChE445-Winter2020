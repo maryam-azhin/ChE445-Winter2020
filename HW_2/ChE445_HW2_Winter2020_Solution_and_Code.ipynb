{
 "cells": [
  {
   "cell_type": "markdown",
   "metadata": {},
   "source": [
    "T.A. Maryam Azhin, \n",
    "Department of Chemical and Materials Engineering, University of Alberta"
   ]
  },
  {
   "cell_type": "markdown",
   "metadata": {},
   "source": [
    "**Predicting conversion in non-ideal reactors (part 1)**"
   ]
  },
  {
   "cell_type": "markdown",
   "metadata": {},
   "source": [
    "**Q1. Again review of 345: build a stoichiometric table. 40 pts**\n",
    "\n",
    "Consider a gaseous feed:\n",
    "$C_{A0} = 100 mol/L$, \n",
    "$C_{B0} = 200 mol/L$, \n",
    "$C_{inerts,0} = 100 mol/L$ to a steady-state\n",
    "isothermal isobaric ideal PFR. \n",
    "At the reactor exit $C_A = 40 mol/L$.\n",
    "\n",
    "The gas-phase reaction is: $$A + 3B \\rightarrow 6R$$\n",
    "\n",
    "Find $X_B$ and $X_A$. (Use any method and any approach to build a stoichiometric table).\n",
    "(Hint: these conversions are connected via exit flow rates)"
   ]
  },
  {
   "cell_type": "markdown",
   "metadata": {},
   "source": [
    "Find a limiting reactant (LR) in $A + 3B \\rightarrow 6R$\n",
    "\n",
    "$$\\frac{A}{B}=\\frac{1}{2} \\frac{mol}{mol}$$\n",
    "\n",
    "So $B$ is the limiting reactant, this means that there is not enough $B$ to convert all $A$\n",
    "\n",
    "Therefore we can rewrite the reaction to have , $1$ as the coefficient for the LR.\n",
    "\n",
    "$$\\frac{1}{3}A + B \\rightarrow 2R$$\n",
    "\n",
    "Stoichiometric table where $X=X_B$, $X=\\frac{F_{B0}-F_{B}}{F_{B0}}$\n",
    "\n",
    "|  Species  | Initial  |Change | Final        |\n",
    "|:---:|---------:|--------------:|--------------:|\n",
    "|A    | $F_{A0}=\\frac{1}{2} F_{B0}$ | $-\\frac{1}{3}F_{B0}X$|$F_{A}=F_{B0}(\\frac{1}{2}-\\frac{1}{3}X)$ |\n",
    "|B    | $F_{B0}$ |$-F_{B0}X$      | $F_{B}=F_{B0}(1-X)$     |             \n",
    "|R    | 0        |$2F_{B0}X$| $F_{C}=2F_{B0}X$    |\n",
    "|inert|$F_{I0}=\\frac{1}{2}F_{B0}$|0|$F_{I}=\\frac{1}{2}F_{B0}$|\n",
    "|Total|$F_{T0}=2F_{B0}$ | $\\frac{2}{3}F_{B0}X$| $2F_{B0}(1+\\frac{1}{3}X)$|\n",
    "\n",
    "\n",
    "$$C_A=\\frac{F_A}{Q}$$\n",
    "$$Q=\\frac{Q_0}{F_{T0}}F_T\\;\\;\\;\\;at\\;\\;\\;\\;P,T=CTE$$\n",
    "\n",
    "$$C_A=\\frac{F_{B0}(\\frac{1}{2}-\\frac{1}{3}X)2F_{B0}}{Q_02F_{B0}(1+\\frac{1}{3}X)}=C_{B0}\\frac{\\frac{1}{2}-\\frac{1}{3}X}{1+\\frac{1}{3}X}=200 [\\frac{mol}{L}]=40 \\frac{mol}{L}$$\n",
    "\n",
    "$$X=X_B=0.75$$\n",
    "\n",
    "Using the stoichiometric table, moles of $A$ reacted (change) $=\\frac{1}{3}F_{B0}X=\\frac{1}{3}*0.75$  \n",
    "\n",
    "$$X_A=\\frac{moles\\;of\\; A\\;reacted}{moles\\;of\\;A\\;fed}=\\frac{0.25 F_{B0}}{0.5 F_{B0}}=0.5$$"
   ]
  },
  {
   "cell_type": "markdown",
   "metadata": {},
   "source": [
    "->"
   ]
  },
  {
   "cell_type": "markdown",
   "metadata": {},
   "source": [
    "** Another way of solving the same problem**\n",
    "$A + 3B \\rightarrow 6R$\n",
    "\n",
    "Stoichiometric table\n",
    "\n",
    "|  Species  | Initial  | Final        |\n",
    "|:---:|---------:|--------------:|\n",
    "|A    | $F_{A0}$| $F_{A}$ |\n",
    "|B    | $F_{B0}=2F_{A0}$ | $F_{B0}-3(F_{A0}-F_{A})=3F_A-F_{A0}$     |             \n",
    "|R    | 0        |$6(F_{A0}-F_A)X$    |\n",
    "|inert|$F_{I0}=F_{A0}$|$F_{A0}$|\n",
    "|Total|$F_{T0}=4F_{A0}$ | $6F_{A0}-2F_{A}$|\n",
    "\n",
    "$$C_A=\\frac{F_A}{Q}$$\n",
    "$$Q=\\frac{Q_0}{F_{T0}}F_T\\;\\;\\;\\;at\\;\\;\\;\\;P,T=CTE$$\n",
    "$$C_A=40$$\n",
    "$$40=\\frac{F_{A}.4F_{A0}}{Q_0(6F_{A0}-2F_{A})}=\\frac{4*F_A*100}{6F_{A0}-2F_{A}}$$\n",
    "$$\\frac{F_{A0}}{F_A}=2\n",
    "\n",
    "$$X_A=0.5$$\n",
    "\n",
    "Using the stoichiometric table\n",
    "\n",
    "$$\\frac{F_B}{F_{B0}}=\\frac{3F_A-F_{A0}}{2F_{A0}}=\\frac{3}{2.2}-\\frac{1}{2}=0.25$$\n",
    "$$X_B=0.75$$\n"
   ]
  },
  {
   "cell_type": "markdown",
   "metadata": {},
   "source": [
    "------------------------------------------------------------"
   ]
  },
  {
   "cell_type": "markdown",
   "metadata": {},
   "source": [
    "**Problem 2. Laminar flow reactor and 2nd order reaction. 35 pts**\n",
    "\n",
    "RTD measurements were performed in a flow reactor of $5 L$ volume at a constant fluid flow rate of $2.5\n",
    "L/s$. The reactor was found to behave as a laminar flow reactor. It is to be used to perform a $2nd$ order\n",
    "constant-density reaction with $kC_{A0} = 15 s^{-1}$ at the same flow rate.\n",
    "\n",
    "Predict the maximum possible conversion in the reactor (i.e., use the segregation micromixing model\n",
    "because the overall reaction order is above 1).\n",
    "\n",
    "To solve, use a trapezoidal rule to estimate the required integral. \n",
    "\n",
    "Let us use $\\Delta t=0.01$ s and $t_{max} = 20 s$.\n",
    "(The small enough interval and the large enough final point in the tail gives a more accurate result). To report, do not print out the Excel file, but show all relevant equations, and report the numerical values for $E(t)$ and $X(t)$ at $5 s$, as well as the final predicted conversion."
   ]
  },
  {
   "cell_type": "markdown",
   "metadata": {},
   "source": [
    "**Segregation model:**\n",
    "\n",
    "$$\\bar{X}=\\int_0^\\infty X(t)E(t) dt$$\n",
    "\n",
    "$$ CVBR: C_{A0}\\frac{dX}{dt}=-r_A=kC_{A0}(1-X)^2$$\n",
    "\n",
    "$$\\int_0^X \\frac{dX}{(1-X)^2}=kC_{A0}\\int_0^t dt$$\n",
    "\n",
    "$$\\frac{X}{1-X}=kC_{A0}t$$\n",
    "\n",
    "$$X=\\frac{kC_{A0}t}{1+kC_{A0}t}$$\n",
    "\n",
    "$E(t)$ comes from the LFR:\n",
    "\n",
    "$$\\tau=\\frac{V}{Q_0}=\\frac{5}{2.5}=2\\;\\;s$$\n",
    "\n",
    "$$E(t) = 0,\\;\\;\\;\\;  t<\\frac{\\tau}{2} (\\tau<1s)$$\n",
    "$$E(t) =\\frac{\\tau^2}{2t^3}=\\frac{2}{t^3},\\;\\;\\;\\;t \\geq \\frac{\\tau}{2} (\\tau \\geq 1s)$$\n",
    "\n",
    "Calculate $E(t)$, $X(t)$, and $X(t).E(t)$. Then using the trapzoidal rule, for example, $(t_4-t_3):\\frac{E_3X_3+E_4X_4}{2}$  \n",
    "\n",
    "$\\sum=$conversion$=0.965$\n",
    "\n",
    "Values at $5s$: \n",
    "\n",
    "$X(t)=0.987$\n",
    "$E(t)=0.016$"
   ]
  },
  {
   "cell_type": "code",
   "execution_count": 29,
   "metadata": {},
   "outputs": [
    {
     "name": "stdout",
     "output_type": "stream",
     "text": [
      "2.0 (s)\n"
     ]
    }
   ],
   "source": [
    "import numpy as np\n",
    "V=5 #L\n",
    "Q0=2.5 #L/s\n",
    "\n",
    "Tau=V/Q0\n",
    "print (\"{0:.1f}\".format(Tau),'(s)')"
   ]
  },
  {
   "cell_type": "code",
   "execution_count": 30,
   "metadata": {},
   "outputs": [
    {
     "data": {
      "text/plain": [
       "Text(0.5, 0, 'Time, s')"
      ]
     },
     "execution_count": 30,
     "metadata": {},
     "output_type": "execute_result"
    },
    {
     "data": {
      "image/png": "[encoded data removed]",
      "text/plain": [
       "<Figure size 432x288 with 1 Axes>"
      ]
     },
     "metadata": {
      "needs_background": "light"
     },
     "output_type": "display_data"
    }
   ],
   "source": [
    "import math\n",
    "import matplotlib.pyplot as plt\n",
    "\n",
    "t=np.linspace(0.,20,2000)\n",
    "E=np.zeros(len(t))\n",
    "\n",
    "for i in range(0,len(t)):\n",
    "    if  t[i]>(Tau/2):\n",
    "        E[i]=(pow(Tau,2)/2)/pow(t[i],3)\n",
    "    else:\n",
    "        E[i]=0   \n",
    "\n",
    "plt.plot(t,E)\n",
    "plt.ylabel('E, 1/s')\n",
    "plt.xlabel('Time, s')"
   ]
  },
  {
   "cell_type": "code",
   "execution_count": 31,
   "metadata": {},
   "outputs": [
    {
     "data": {
      "text/plain": [
       "Text(0.5, 0, 'Time, s')"
      ]
     },
     "execution_count": 31,
     "metadata": {},
     "output_type": "execute_result"
    },
    {
     "data": {
      "image/png": "[encoded data removed]",
      "text/plain": [
       "<Figure size 432x288 with 1 Axes>"
      ]
     },
     "metadata": {
      "needs_background": "light"
     },
     "output_type": "display_data"
    }
   ],
   "source": [
    "kCA0=15 #S^{-1}\n",
    "    \n",
    "X=kCA0*t/(1+kCA0*t)\n",
    "\n",
    "plt.plot(t,X)\n",
    "plt.ylabel('X')\n",
    "plt.xlabel('Time, s')"
   ]
  },
  {
   "cell_type": "code",
   "execution_count": 32,
   "metadata": {},
   "outputs": [
    {
     "data": {
      "text/plain": [
       "Text(0.5, 0, 'Time, s')"
      ]
     },
     "execution_count": 32,
     "metadata": {},
     "output_type": "execute_result"
    },
    {
     "data": {
      "image/png": "[encoded data removed]",
      "text/plain": [
       "<Figure size 432x288 with 1 Axes>"
      ]
     },
     "metadata": {
      "needs_background": "light"
     },
     "output_type": "display_data"
    }
   ],
   "source": [
    "XE=X*E\n",
    "\n",
    "plt.plot(t,XE)\n",
    "plt.ylabel('XE')\n",
    "plt.xlabel('Time, s')"
   ]
  },
  {
   "cell_type": "code",
   "execution_count": 28,
   "metadata": {},
   "outputs": [
    {
     "name": "stdout",
     "output_type": "stream",
     "text": [
      "0.964 =Conversion\n"
     ]
    }
   ],
   "source": [
    "import scipy.integrate as integrate\n",
    "\n",
    "Conv = integrate.trapz(XE, t)\n",
    "print (\"{0:.3f}\".format(Conv), '=Conversion')"
   ]
  },
  {
   "cell_type": "markdown",
   "metadata": {},
   "source": [
    "------------------------------------------------------------"
   ]
  },
  {
   "cell_type": "markdown",
   "metadata": {},
   "source": [
    "**Problem 3. Dead zones in a CSTR. 5 pts**\n",
    "\n",
    "In problem 2, seminar 2, what is the volume of dead zones in the reactor?"
   ]
  },
  {
   "cell_type": "markdown",
   "metadata": {},
   "source": [
    "$\\tau_{real}$ CSTR with dead zones $= \\frac{V_{SD} {Active]}{Q_0}$ \n",
    "\n",
    "$$1.7s=\\frac{V_{SD}}{5}$$\n",
    "$$V_{SD}=8.5 L$$\n",
    "$$V_{dead}=10L-8.5=1.5L$$"
   ]
  },
  {
   "cell_type": "markdown",
   "metadata": {},
   "source": [
    "------------------------------------------------------------"
   ]
  },
  {
   "cell_type": "markdown",
   "metadata": {},
   "source": [
    "**Problem 4. A real-life case. 20 pts (4 pts for each subquestion).**\n",
    "\n",
    "So far, we used hypothetical tracer concentrations with profiles which are easily described by simple correlations for learning purposes. In reality, the $C(t)$ profiles look more similar as shown in this problem (depending on the reactor performance).\n",
    "\n",
    "Read the following sections from a real-life study from Esso Research Laboratories: Industrial and Engineering Chemistry Process Design and Development, Volume 3 (1964), p. 381 (posted on eClass):\n",
    "\n",
    "• Introduction\n",
    "\n",
    "• Determination of Residence-Time-Distribution\n",
    "\n",
    "• Application to a Commercial Desulfurization Reactor\n",
    "\n",
    "Answer the following questions (short, 1-2 sentences each):\n",
    "\n",
    "4-a). What tracer was used for the RTD measurements? What was the reactor feed?\n",
    "\n",
    "4-b). What method was used (pulse or step)?\n",
    "\n",
    "4-c). Is the reactor perfectly mixed?\n",
    "\n",
    "4-d). The RTD measurements revealed some problems: what were they and how this could be deducted\n",
    "from, for example, Figure 6?\n",
    "\n",
    "4-e). What was done to fix the problem and which Figure represents the cured reactor?"
   ]
  },
  {
   "cell_type": "markdown",
   "metadata": {},
   "source": [
    "**4-a)** \n",
    "\n",
    "Feed: liquid Oil and $H_2$ gas.\n",
    "\n",
    "Tracer: Octadecane tagged with radioactive $^{14}C$."
   ]
  },
  {
   "cell_type": "markdown",
   "metadata": {},
   "source": [
    "**4-b)** \n",
    "\n",
    "Pulse"
   ]
  },
  {
   "cell_type": "markdown",
   "metadata": {},
   "source": [
    "**4-c)**\n",
    "\n",
    "No. The reactor approaches a PFR behavior.\n"
   ]
  },
  {
   "cell_type": "markdown",
   "metadata": {},
   "source": [
    "**4-d**\n",
    "\n",
    "Comparing Figs 4 and 6, in Fig. 6 there is a peak at $~0 time$ (indicates by-passing) and a large tracer amount leaving after $20$ minutes.\n",
    "\n",
    "The catalyst was not packed property and the catalyst bed shifted at the startup."
   ]
  },
  {
   "cell_type": "markdown",
   "metadata": {},
   "source": [
    "**4-e**\n",
    "\n",
    "The catalyst was repacked. The RTD of the cured reactor is shown in Fig. 7."
   ]
  },
  {
   "cell_type": "code",
   "execution_count": null,
   "metadata": {},
   "outputs": [],
   "source": []
  }
 ],
 "metadata": {
  "kernelspec": {
   "display_name": "Python 3",
   "language": "python",
   "name": "python3"
  },
  "language_info": {
   "codemirror_mode": {
    "name": "ipython",
    "version": 3
   },
   "file_extension": ".py",
   "mimetype": "text/x-python",
   "name": "python",
   "nbconvert_exporter": "python",
   "pygments_lexer": "ipython3",
   "version": "3.7.3"
  }
 },
 "nbformat": 4,
 "nbformat_minor": 2
}
