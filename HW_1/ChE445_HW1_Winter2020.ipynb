{
 "cells": [
  {
   "cell_type": "markdown",
   "metadata": {},
   "source": [
    "**Q1. Ideal PFR: mean residence time and space time.** \n",
    "\n",
    "A gas-phase first-order reaction $A \\rightarrow B+2C$ is carried out isothermally in an ideal PFR of $533 L$ volume with no pressure drop. The rate constant is $0.032 min^{-1}$, pure $A$ enters the reactor, $C_{A0} = 0.5 M$, $F_{A0}= 2 mol/min$. $80\\%$ conversion is achieved in the reactor. Find mean residence time and space time. Explain the difference if any."
   ]
  },
  {
   "cell_type": "markdown",
   "metadata": {},
   "source": [
    "**Answer1**. \n",
    "\n",
    "Stoichiometric Table for $A \\rightarrow B+2C$\n",
    "\n",
    "|  .  | Initial  | Final         |\n",
    "|:---:|---------:|--------------:|\n",
    "|A    | $F_{A0}$ | $F_{A0}(1-X)$ |\n",
    "|B    | 0        | $F_{A0}X$     |             \n",
    "|C    | 0        | $2F_{A0}X$    |\n",
    "|Total|$F_{A0}$  | $F_{A0}(1+2X)$|\n",
    "\n",
    "$\\frac{Q}{Q0}=\\frac{F_T}{F_{T0}}=1+2X$\n",
    "\n",
    "Space time: $\\tau=\\frac{V}{Q0}=\\frac{V.C_{A0}}{F_{A0}}$\n",
    "\n",
    "$-r_A=kC_A=k\\frac{F_A}{Q}=k\\frac{F_{A0}(1-X)}{Q_0(1+2X)}=k C_{A0}\\frac{1-X}{1+2X}$\n",
    "\n",
    "Mean residence time: $\\bar{t}=\\int_0^V \\frac{dV}{Q}= F_{A0}\\int_0^X \\frac{dX}{-r_A.Q}=C_{A0}\\int_0^X \\frac{dX}{-r_A(1+\\epsilon X)}$\n",
    "\n",
    "$\\bar{t}=C_{A0}\\int_0^X \\frac{(1+2X)dX}{k C_{A0}(1-X)(1+2X)}=\\frac{1}{k}ln \\frac{1}{1-X}$\n"
   ]
  },
  {
   "cell_type": "code",
   "execution_count": 86,
   "metadata": {},
   "outputs": [
    {
     "name": "stdout",
     "output_type": "stream",
     "text": [
      "Space time          = 133.25 min\n",
      "mean residence time = 50.295 min\n",
      "---------------------------------\n",
      "mean residence time < Space time because fluid expands\n"
     ]
    }
   ],
   "source": [
    "import numpy as np\n",
    "import math\n",
    "\n",
    "V=533\n",
    "CA0=0.5\n",
    "FA0=2\n",
    "k=0.032\n",
    "X=0.8\n",
    "\n",
    "Tau=V*CA0/FA0\n",
    "Tbar=(1/k)*(math.log (1/(1-X)) )\n",
    "\n",
    "print('Space time          =', Tau, 'min')\n",
    "print('mean residence time =', \"{0:.3f}\".format(Tbar), 'min')\n",
    "print('---------------------------------')\n",
    "print('mean residence time < Space time because fluid expands')"
   ]
  },
  {
   "cell_type": "markdown",
   "metadata": {},
   "source": [
    "**Q2. Ideal CSTR: mean residence time and space time.**\n",
    "\n",
    "A liquid-phase reaction $A+2B\\rightarrow C$ is carried out in a CSTR of $40 L$ volume. The feed is\n",
    "stoichiometric, its volumetric flow rate $Q_0 = 200 L/h$. 45% conversion is achieved. Find mean residence time and space time. Explain the difference if any."
   ]
  },
  {
   "cell_type": "markdown",
   "metadata": {},
   "source": [
    "**Answer2**.\n",
    "Space time: $\\tau=\\frac{V}{Q0}$\n",
    "\n",
    "Mean residence time: $\\bar{t}=\\frac{V}{Q_{exit}}$\n",
    "\n",
    "This reaction is happening in an incompressible fluid and it is assumed that the liquid phase does not have any density changes \n",
    "\n",
    "$Q_{exit}=Q_{0}$  and   $\\bar{t}=\\tau$"
   ]
  },
  {
   "cell_type": "code",
   "execution_count": 87,
   "metadata": {},
   "outputs": [
    {
     "name": "stdout",
     "output_type": "stream",
     "text": [
      "Space time 0.2 h\n",
      "---------------------------------\n",
      "In an incompressible fluid:    Space time = Mean residence time \n"
     ]
    }
   ],
   "source": [
    "V=40   #L\n",
    "Q0=200 #L/h\n",
    "\n",
    "\n",
    "Tau=V/Q0\n",
    "\n",
    "print('Space time', Tau, 'h')\n",
    "print('---------------------------------')\n",
    "print('In an incompressible fluid:    Space time = Mean residence time ')"
   ]
  },
  {
   "cell_type": "markdown",
   "metadata": {},
   "source": [
    "**Q3.(Review of ChE 345)** \n",
    "\n",
    "A packed-bed reactor is to be designed to achieve $80\\%$ conversion in a first-order constantdensity reaction. A research paper reports a PBR used for this reaction for the same feed composition and operating conditions except that $40\\%$ conversion was achieved with $1 kg$ of catalyst. To double the conversion from the reported $40\\%$ to the required $80\\%$, how much catalyst mass is required? Assume that it is an ideal PBR (ideal PBR mole balance is the same as ideal PFR mole balance, except that catalyst mass W is used instead of reactor volume V.)"
   ]
  },
  {
   "cell_type": "markdown",
   "metadata": {},
   "source": [
    "**Answer3**.\n",
    "\n",
    "MB in a PBR:  $\\frac{dF_A}{dW}=r_A$\n",
    "\n",
    "Rate law: $r_A=kC_A$\n",
    "\n",
    "Stoichiometry: $C_A=\\frac{F_A}{Q}$\n",
    "        for a constant density case: $C_A=\\frac{F_{A0}(1-X)}{Q_0}$\n",
    "        \n",
    "Therefore: $\\frac{dF_A}{dW}= k\\frac{F_{A0}(1-X)}{Q_0}$\n",
    "\n",
    "$F_{A0}\\frac{dX}{dW}= k\\frac{F_{A0}}{Q_0}(1-X)$\n",
    "\n",
    "$ln (\\frac{1}{1-X})=\\frac{k}{Q_0}W$\n",
    "\n",
    "$\\frac{k}{Q_0}=ln (\\frac{1}{1-X})/W$\n",
    "\n",
    "$X=1-1/(e^{\\frac{k}{Q_0}*W})$\n",
    "Conversion does not increase linearly with $W$."
   ]
  },
  {
   "cell_type": "code",
   "execution_count": 91,
   "metadata": {},
   "outputs": [
    {
     "name": "stdout",
     "output_type": "stream",
     "text": [
      "k/Q0= 0.511 1/kg\n",
      "-----------------\n"
     ]
    }
   ],
   "source": [
    "import numpy as np\n",
    "import math\n",
    "\n",
    "W=1 #kg\n",
    "X=0.4\n",
    "\n",
    "KQ0=(math.log(1/(1-X)))/W\n",
    "\n",
    "print('k/Q0=', \"{0:.3f}\".format(KQ0), '1/kg')\n",
    "print('-----------------')"
   ]
  },
  {
   "cell_type": "code",
   "execution_count": 92,
   "metadata": {},
   "outputs": [
    {
     "data": {
      "text/plain": [
       "Text(0.5, 0, 'W, kg')"
      ]
     },
     "execution_count": 92,
     "metadata": {},
     "output_type": "execute_result"
    },
    {
     "data": {
      "image/png": "[encoded data removed]",
      "text/plain": [
       "<Figure size 432x288 with 1 Axes>"
      ]
     },
     "metadata": {
      "needs_background": "light"
     },
     "output_type": "display_data"
    }
   ],
   "source": [
    "import math\n",
    "import matplotlib.pyplot as plt\n",
    "\n",
    "W=np.linspace(0.,4,100)\n",
    "X=np.zeros(len(W))\n",
    "\n",
    "for i in range(0,len(W)):\n",
    "    X[i]=1-(1/math.exp(KQ0*W[i]))\n",
    "\n",
    "plt.plot(W,X)\n",
    "plt.ylabel('X')\n",
    "plt.xlabel('W, kg')"
   ]
  },
  {
   "cell_type": "code",
   "execution_count": 99,
   "metadata": {},
   "outputs": [
    {
     "name": "stdout",
     "output_type": "stream",
     "text": [
      "To reach 80.0 % conversion [3.1506601] kg catalyst is needed.\n"
     ]
    }
   ],
   "source": [
    "from scipy.optimize import fsolve\n",
    "\n",
    "X=0.8\n",
    "def f(W):\n",
    "    return W-(math.log(1/(1-X)))/KQ0\n",
    "\n",
    "W = fsolve(f, 0.01)\n",
    "f(W)\n",
    "\n",
    "print ('To reach', X*100, '% conversion', W, 'kg catalyst is needed.')"
   ]
  },
  {
   "cell_type": "markdown",
   "metadata": {},
   "source": [
    "**Q4. RTD characteristics.** \n",
    "\n",
    "RTD measurements were performed in a flow reactor with a liquid-phase reaction by a pulse tracer input. The outlet tracer concentration $(\\mu mol/L)$ was measured and the equation\n",
    "was fit, as shown on the Figure.\n",
    "\n",
    "**4a)**. Provide the algebraic equation (with all evaluated constants except for $t$ to describe the RTD function $E(t)$. \n",
    "\n",
    "**4b)**. Calculate the value of cumulative distribution function $F(t)$ at $1 h$. What fraction of the material will leave the reactor after $1 hr$? \n",
    "\n",
    "**4c)**. Calculate mean residence time in this reactor (show the integration with intermediate steps; only numerical answer is not sufficient). \n",
    "\n",
    "**4d)**. Calculate variance of the RTD function. \n",
    "\n",
    "**4e)**. Assume if $50 μmol$ of the tracer was injected as a pulse input, and the liquid flow rate was constant at $20 L/h$. Using the provided Figure, calculate if all the tracer had left by $1.5 h$. Was it a wise decision to stop measurements at $1.5 h$?\n",
    "\n",
    "![PFR.png](ChE445_HW1_Q4.png)"
   ]
  },
  {
   "cell_type": "markdown",
   "metadata": {},
   "source": [
    "**Answer 4a)**."
   ]
  },
  {
   "cell_type": "markdown",
   "metadata": {},
   "source": [
    "$c(t)=-3t^2+4t\\;\\;\\;$   at  $\\;\\;\\;t=< 1.33 h$\n",
    "\n",
    "$c(t)=0\\;\\;\\;\\;\\;\\;\\;\\;\\;\\;\\;\\;\\;\\;$   at  $\\;\\;\\;t>1.33 h$\n",
    "\n",
    "$\\int_0^\\infty c(t)dt=-3\\int_0^{1.33}t^2dt+4\\int_0^{1.33}dt=-\\frac{3}{3}1.33^3+\\frac{4}{2}1.33^2=1.185$ $(\\mu M.h)$\n"
   ]
  },
  {
   "cell_type": "code",
   "execution_count": 100,
   "metadata": {},
   "outputs": [
    {
     "name": "stdout",
     "output_type": "stream",
     "text": [
      "1.185\n"
     ]
    },
    {
     "data": {
      "image/png": "[encoded data removed]",
      "text/plain": [
       "<Figure size 432x288 with 1 Axes>"
      ]
     },
     "metadata": {
      "needs_background": "light"
     },
     "output_type": "display_data"
    }
   ],
   "source": [
    "import numpy as np\n",
    "import scipy.integrate as integrate\n",
    "\n",
    "t=np.linspace(0.,2.,10000)\n",
    "C=np.zeros(len(t))\n",
    "\n",
    "for i in range(0,len(t)):\n",
    "    if 0<t[i]<=1.33: \n",
    "        C[i]=-3*t[i]*t[i]+4*t[i]\n",
    "    else:\n",
    "        C[i]=0\n",
    "\n",
    "plt.plot(t,C)\n",
    "plt.ylabel('C')\n",
    "plt.xlabel('t, hr')\n",
    "\n",
    "I = integrate.cumtrapz(C, t, initial=0) \n",
    "print (\"{0:.3f}\".format(I[len(I)-1]))\n"
   ]
  },
  {
   "cell_type": "markdown",
   "metadata": {},
   "source": [
    "$E(t)=\\frac{c(t)}{\\int_0^\\infty c(t) dt}$\n",
    "\n",
    "$E(t)=-2.53t^2+3.376t\\;\\;\\;$   at  $\\;\\;\\;t=< 1.33 h$\n",
    "\n",
    "$E(t)=0\\;\\;\\;\\;\\;\\;\\;\\;\\;\\;\\;\\;\\;\\;$   at  $\\;\\;\\;t>1.33 h$\n"
   ]
  },
  {
   "cell_type": "code",
   "execution_count": 101,
   "metadata": {},
   "outputs": [
    {
     "data": {
      "text/plain": [
       "Text(0.5, 0, 't, hr')"
      ]
     },
     "execution_count": 101,
     "metadata": {},
     "output_type": "execute_result"
    },
    {
     "data": {
      "image/png": "[encoded data removed]",
      "text/plain": [
       "<Figure size 432x288 with 1 Axes>"
      ]
     },
     "metadata": {
      "needs_background": "light"
     },
     "output_type": "display_data"
    }
   ],
   "source": [
    "E=np.zeros(len(t))\n",
    "\n",
    "for i in range(0,len(t)):\n",
    "    if 0<t[i]<=1.33: \n",
    "        E[i]=-2.53*t[i]*t[i]+3.376*t[i]\n",
    "    else:\n",
    "        E[i]=0\n",
    "plt.plot(t,E)\n",
    "plt.ylabel('E')\n",
    "plt.xlabel('t, hr')"
   ]
  },
  {
   "cell_type": "markdown",
   "metadata": {},
   "source": [
    "**4b)** $F(t)=\\int_0^t E(t) dt$\n",
    "\n",
    "at 1 hr: $F(t)=-2.53\\int_0^1 t^2dt+3.376\\int_0^1t dt=0.845$"
   ]
  },
  {
   "cell_type": "code",
   "execution_count": 106,
   "metadata": {},
   "outputs": [
    {
     "name": "stdout",
     "output_type": "stream",
     "text": [
      "F at t=1 0.845\n",
      "Fraction leaving after 1 hr 0.155\n"
     ]
    },
    {
     "data": {
      "text/plain": [
       "Text(0.5, 0, 't, hr')"
      ]
     },
     "execution_count": 106,
     "metadata": {},
     "output_type": "execute_result"
    },
    {
     "data": {
      "image/png": "[encoded data removed]",
      "text/plain": [
       "<Figure size 432x288 with 1 Axes>"
      ]
     },
     "metadata": {
      "needs_background": "light"
     },
     "output_type": "display_data"
    }
   ],
   "source": [
    "F = integrate.cumtrapz(E, t, initial=0) \n",
    "   \n",
    "k2=0\n",
    "\n",
    "for i in range(0,len(t)):\n",
    "    if 0.99<t[i]<=1.0:\n",
    "        k2=i\n",
    "\n",
    "print ('F at t=1',\"{0:.3f}\".format(F[k2]))\n",
    "print('Fraction leaving after 1 hr', \"{0:.3f}\".format(1-F[k2]))\n",
    "        \n",
    "plt.plot(t,F)\n",
    "plt.ylabel('F')\n",
    "plt.xlabel('t, hr')"
   ]
  },
  {
   "cell_type": "markdown",
   "metadata": {},
   "source": [
    "**4c)**. Mean residence time\n",
    "\n",
    "$$\\bar{t}=\\int_0^\\infty tE(t)dt=-2.53\\int_1^{1.33}t^3 dt+3.376\\int_0^{1.33}t^2 dt=0.67 hr$$"
   ]
  },
  {
   "cell_type": "code",
   "execution_count": 78,
   "metadata": {},
   "outputs": [
    {
     "name": "stdout",
     "output_type": "stream",
     "text": [
      "0.668\n"
     ]
    },
    {
     "data": {
      "text/plain": [
       "Text(0.5, 0, 't, hr')"
      ]
     },
     "execution_count": 78,
     "metadata": {},
     "output_type": "execute_result"
    },
    {
     "data": {
      "image/png": "[encoded data removed]",
      "text/plain": [
       "<Figure size 432x288 with 1 Axes>"
      ]
     },
     "metadata": {
      "needs_background": "light"
     },
     "output_type": "display_data"
    }
   ],
   "source": [
    "tE=np.multiply(t,E)\n",
    "\n",
    "tr = integrate.cumtrapz(tE, t, initial=0) \n",
    "print (\"{0:.3f}\".format(tr[len(tr)-1]))\n",
    "\n",
    "plt.plot(t,tE)\n",
    "plt.ylabel('t*E(t)')\n",
    "plt.xlabel('t, hr')"
   ]
  },
  {
   "cell_type": "markdown",
   "metadata": {},
   "source": [
    "The inflection point of the parabola is at 0.67 hr"
   ]
  },
  {
   "cell_type": "markdown",
   "metadata": {},
   "source": [
    "**4d)**. Varience.\n",
    "\n",
    "$\\sigma^2=\\int_0^\\infty t^2 E(t)dt-\\bar{t}^2=-2.53\\int_0^{1.33} t^4 dt+3.376\\int_0^{1.33} t^3 dt-(0.67)^2$\n",
    "\n",
    "$\\sigma^2=-\\frac{2.53}{5}*(1.33)^5+\\frac{3.376}{4}(1.33)^4-(0.67)^2=0.09 h^2$"
   ]
  },
  {
   "cell_type": "code",
   "execution_count": 80,
   "metadata": {},
   "outputs": [
    {
     "name": "stdout",
     "output_type": "stream",
     "text": [
      "0.088 min^2\n"
     ]
    }
   ],
   "source": [
    "v=np.zeros(len(t))\n",
    "\n",
    "for i in range(0,len(t)):\n",
    "    v[i]=t[i]*t[i]*E[i]\n",
    "    \n",
    "\n",
    "Va = integrate.trapz(v, t)\n",
    "\n",
    "Var1=Va-(tr[len(tr)-1]*tr[len(tr)-1])\n",
    "print (\"{0:.3f}\".format(Var1), 'min^2')"
   ]
  },
  {
   "cell_type": "markdown",
   "metadata": {},
   "source": [
    "**4e)**. The area under the curve represents the tracer left. \n",
    "\n",
    "In **a)** we found it as $1.185 \\mu mol.h/L$.\n",
    "\n",
    "Total amount of exited tracer $= C_{out}*Q=1.185*20=23.7 \\mu mol$.\n",
    "\n",
    "$50 \\mu mol$ is injected and not all tracer have left by $1.5 h$. \n",
    "\n",
    "We have to continue measurements and redo all calculations for $\\bar{t}$ and $\\sigma^2$ ."
   ]
  },
  {
   "cell_type": "code",
   "execution_count": null,
   "metadata": {},
   "outputs": [],
   "source": []
  }
 ],
 "metadata": {
  "kernelspec": {
   "display_name": "Python 3",
   "language": "python",
   "name": "python3"
  },
  "language_info": {
   "codemirror_mode": {
    "name": "ipython",
    "version": 3
   },
   "file_extension": ".py",
   "mimetype": "text/x-python",
   "name": "python",
   "nbconvert_exporter": "python",
   "pygments_lexer": "ipython3",
   "version": "3.7.3"
  }
 },
 "nbformat": 4,
 "nbformat_minor": 2
}
